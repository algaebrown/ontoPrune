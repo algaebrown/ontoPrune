{
 "cells": [
  {
   "cell_type": "code",
   "execution_count": 1,
   "metadata": {},
   "outputs": [],
   "source": [
    "data_root = '/cellar/users/hsher/ontoPrune/data/'\n",
    "import pickle\n",
    "from ddot import Ontology\n",
    "\n",
    "# read pruned ontology\n",
    "ont = Ontology.read_pickle(data_root+'prune_go_{:.2f}'.format(0.80))"
   ]
  },
  {
   "cell_type": "code",
   "execution_count": 2,
   "metadata": {},
   "outputs": [
    {
     "data": {
      "text/plain": [
       "19626 genes, 2754 terms, 100290 gene-term relations, 3685 term-term relations\n",
       "node_attributes: []\n",
       "edge_attributes: ['Annotation Extension', 'Aspect', 'Assigned By', 'DB', 'DB Object ID', 'DB Object Name', 'DB Object Synonym', 'DB Object Type', 'DB:Reference', 'Date', 'Evidence Code', 'Gene Product Form ID', 'Qualifier', 'Taxon', 'With (or) From', 'biological_process', 'is_a']"
      ]
     },
     "execution_count": 2,
     "metadata": {},
     "output_type": "execute_result"
    }
   ],
   "source": [
    "ont"
   ]
  },
  {
   "cell_type": "code",
   "execution_count": 3,
   "metadata": {},
   "outputs": [
    {
     "data": {
      "text/plain": [
       "['GO:0003674', 'GO:0005575', 'GO:0008150']"
      ]
     },
     "execution_count": 3,
     "metadata": {},
     "output_type": "execute_result"
    }
   ],
   "source": [
    "ont.get_roots() # molecular function, cellular component, Biological process"
   ]
  },
  {
   "cell_type": "code",
   "execution_count": 4,
   "metadata": {},
   "outputs": [
    {
     "name": "stdout",
     "output_type": "stream",
     "text": [
      "Genes and Terms to keep: 18724\n"
     ]
    }
   ],
   "source": [
    "mf = ont.focus('GO:0003674')"
   ]
  },
  {
   "cell_type": "code",
   "execution_count": 5,
   "metadata": {},
   "outputs": [
    {
     "name": "stdout",
     "output_type": "stream",
     "text": [
      "Genes and Terms to keep: 19138\n"
     ]
    }
   ],
   "source": [
    "bp =ont.focus('GO:0008150')"
   ]
  },
  {
   "cell_type": "code",
   "execution_count": 6,
   "metadata": {},
   "outputs": [
    {
     "name": "stdout",
     "output_type": "stream",
     "text": [
      "Genes and Terms to keep: 19132\n"
     ]
    }
   ],
   "source": [
    "cc = ont.focus('GO:0005575')"
   ]
  },
  {
   "cell_type": "code",
   "execution_count": 7,
   "metadata": {},
   "outputs": [
    {
     "data": {
      "text/plain": [
       "17614 genes, 1110 terms, 30380 gene-term relations, 1151 term-term relations\n",
       "node_attributes: []\n",
       "edge_attributes: ['Annotation Extension', 'Aspect', 'Assigned By', 'DB', 'DB Object ID', 'DB Object Name', 'DB Object Synonym', 'DB Object Type', 'DB:Reference', 'Date', 'Evidence Code', 'Gene Product Form ID', 'Qualifier', 'Taxon', 'With (or) From', 'biological_process', 'is_a']"
      ]
     },
     "execution_count": 7,
     "metadata": {},
     "output_type": "execute_result"
    }
   ],
   "source": [
    "mf"
   ]
  },
  {
   "cell_type": "code",
   "execution_count": 8,
   "metadata": {},
   "outputs": [
    {
     "data": {
      "text/plain": [
       "17769 genes, 1369 terms, 47219 gene-term relations, 2238 term-term relations\n",
       "node_attributes: []\n",
       "edge_attributes: ['Annotation Extension', 'Aspect', 'Assigned By', 'DB', 'DB Object ID', 'DB Object Name', 'DB Object Synonym', 'DB Object Type', 'DB:Reference', 'Date', 'Evidence Code', 'Gene Product Form ID', 'Qualifier', 'Taxon', 'With (or) From', 'biological_process', 'is_a']"
      ]
     },
     "execution_count": 8,
     "metadata": {},
     "output_type": "execute_result"
    }
   ],
   "source": [
    "bp"
   ]
  },
  {
   "cell_type": "code",
   "execution_count": 9,
   "metadata": {},
   "outputs": [
    {
     "data": {
      "text/plain": [
       "18857 genes, 275 terms, 22691 gene-term relations, 296 term-term relations\n",
       "node_attributes: []\n",
       "edge_attributes: ['Annotation Extension', 'Aspect', 'Assigned By', 'DB', 'DB Object ID', 'DB Object Name', 'DB Object Synonym', 'DB Object Type', 'DB:Reference', 'Date', 'Evidence Code', 'Gene Product Form ID', 'Qualifier', 'Taxon', 'With (or) From', 'biological_process', 'is_a']"
      ]
     },
     "execution_count": 9,
     "metadata": {},
     "output_type": "execute_result"
    }
   ],
   "source": [
    "cc"
   ]
  },
  {
   "cell_type": "code",
   "execution_count": 10,
   "metadata": {},
   "outputs": [
    {
     "data": {
      "text/html": [
       "<div>\n",
       "<style scoped>\n",
       "    .dataframe tbody tr th:only-of-type {\n",
       "        vertical-align: middle;\n",
       "    }\n",
       "\n",
       "    .dataframe tbody tr th {\n",
       "        vertical-align: top;\n",
       "    }\n",
       "\n",
       "    .dataframe thead th {\n",
       "        text-align: right;\n",
       "    }\n",
       "</style>\n",
       "<table border=\"1\" class=\"dataframe\">\n",
       "  <thead>\n",
       "    <tr style=\"text-align: right;\">\n",
       "      <th></th>\n",
       "      <th>Parent</th>\n",
       "      <th>Child</th>\n",
       "      <th>EdgeType</th>\n",
       "    </tr>\n",
       "  </thead>\n",
       "  <tbody>\n",
       "    <tr>\n",
       "      <th>0</th>\n",
       "      <td>GO:0000439</td>\n",
       "      <td>GO:0000438</td>\n",
       "      <td>Child-Parent</td>\n",
       "    </tr>\n",
       "    <tr>\n",
       "      <th>1</th>\n",
       "      <td>GO:0005575</td>\n",
       "      <td>GO:0000110</td>\n",
       "      <td>Child-Parent</td>\n",
       "    </tr>\n",
       "    <tr>\n",
       "      <th>2</th>\n",
       "      <td>GO:0005575</td>\n",
       "      <td>GO:0000126</td>\n",
       "      <td>Child-Parent</td>\n",
       "    </tr>\n",
       "    <tr>\n",
       "      <th>3</th>\n",
       "      <td>GO:0005575</td>\n",
       "      <td>GO:0000127</td>\n",
       "      <td>Child-Parent</td>\n",
       "    </tr>\n",
       "    <tr>\n",
       "      <th>4</th>\n",
       "      <td>GO:0005575</td>\n",
       "      <td>GO:0000221</td>\n",
       "      <td>Child-Parent</td>\n",
       "    </tr>\n",
       "    <tr>\n",
       "      <th>...</th>\n",
       "      <td>...</td>\n",
       "      <td>...</td>\n",
       "      <td>...</td>\n",
       "    </tr>\n",
       "    <tr>\n",
       "      <th>22982</th>\n",
       "      <td>GO:0005575</td>\n",
       "      <td>hCG_1642624</td>\n",
       "      <td>Gene-Term</td>\n",
       "    </tr>\n",
       "    <tr>\n",
       "      <th>22983</th>\n",
       "      <td>GO:0005575</td>\n",
       "      <td>hCG_1984214</td>\n",
       "      <td>Gene-Term</td>\n",
       "    </tr>\n",
       "    <tr>\n",
       "      <th>22984</th>\n",
       "      <td>GO:0005761</td>\n",
       "      <td>hCG_1984214</td>\n",
       "      <td>Gene-Term</td>\n",
       "    </tr>\n",
       "    <tr>\n",
       "      <th>22985</th>\n",
       "      <td>GO:0015935</td>\n",
       "      <td>hCG_1984214</td>\n",
       "      <td>Gene-Term</td>\n",
       "    </tr>\n",
       "    <tr>\n",
       "      <th>22986</th>\n",
       "      <td>GO:0005575</td>\n",
       "      <td>hCG_2042738</td>\n",
       "      <td>Gene-Term</td>\n",
       "    </tr>\n",
       "  </tbody>\n",
       "</table>\n",
       "<p>22987 rows × 3 columns</p>\n",
       "</div>"
      ],
      "text/plain": [
       "           Parent        Child      EdgeType\n",
       "0      GO:0000439   GO:0000438  Child-Parent\n",
       "1      GO:0005575   GO:0000110  Child-Parent\n",
       "2      GO:0005575   GO:0000126  Child-Parent\n",
       "3      GO:0005575   GO:0000127  Child-Parent\n",
       "4      GO:0005575   GO:0000221  Child-Parent\n",
       "...           ...          ...           ...\n",
       "22982  GO:0005575  hCG_1642624     Gene-Term\n",
       "22983  GO:0005575  hCG_1984214     Gene-Term\n",
       "22984  GO:0005761  hCG_1984214     Gene-Term\n",
       "22985  GO:0015935  hCG_1984214     Gene-Term\n",
       "22986  GO:0005575  hCG_2042738     Gene-Term\n",
       "\n",
       "[22987 rows x 3 columns]"
      ]
     },
     "execution_count": 10,
     "metadata": {},
     "output_type": "execute_result"
    }
   ],
   "source": [
    "cc.to_table()"
   ]
  },
  {
   "cell_type": "code",
   "execution_count": 11,
   "metadata": {},
   "outputs": [],
   "source": [
    "import sys\n",
    "sys.path.append('/cellar/users/hsher/ontoPrune')\n",
    "from ontoPrune.prune import *\n",
    "from ontoPrune.entropy import *"
   ]
  },
  {
   "cell_type": "code",
   "execution_count": 12,
   "metadata": {},
   "outputs": [],
   "source": [
    "def write_to_dcell(ont, outfilename, remove_root_attached_genes = True):\n",
    "    term_order = ont.topological_sorting(top_down = True, include_genes = False)\n",
    "    \n",
    "    ont_table = ont.to_table()\n",
    "    \n",
    "    if remove_root_attached_genes:\n",
    "        to_be_remove = ont_table.loc[(ont_table['Parent'] == ont.get_roots()[0]) & (ont_table['EdgeType'] == 'Gene-Term')].index\n",
    "        print('dropping {} gene-term'.format(len(to_be_remove)))\n",
    "        ont_table.drop(index = to_be_remove, inplace = True)\n",
    "        ont = Ontology.from_table(ont_table)\n",
    "    ont_count = count_gene(ont)\n",
    "    \n",
    "    \n",
    "    with open(outfilename, 'w') as f:\n",
    "        for rt_term in term_order: # obey the topological order\n",
    "            f.write('ROOT: {0} {1}\\n'.format(rt_term, ont_count.loc[rt_term, 'indirect gene count']))\n",
    "            gene_list, term_list = find_child(ont_table, rt_term)\n",
    "            f.write('GENES: {}\\n'.format(' '.join(gene_list)))\n",
    "            f.write('TERMS: {}\\n'.format(' '.join(term_list)))"
   ]
  },
  {
   "cell_type": "code",
   "execution_count": 13,
   "metadata": {},
   "outputs": [
    {
     "name": "stderr",
     "output_type": "stream",
     "text": [
      "/cellar/users/hsher/ontoPrune/ontoPrune/entropy.py:32: FutureWarning: Sorting because non-concatenation axis is not aligned. A future version\n",
      "of pandas will change to not sort by default.\n",
      "\n",
      "To accept the future behavior, pass 'sort=False'.\n",
      "\n",
      "To retain the current behavior and silence the warning, pass 'sort=True'.\n",
      "\n",
      "  ont_count = pd.concat([dir_count, indir_count, term_count], axis = 1)\n"
     ]
    }
   ],
   "source": [
    "write_to_dcell(cc, data_root+'cc_080.topo', remove_root_attached_genes = False)\n",
    "write_to_dcell(bp, data_root+'bp_080.topo', remove_root_attached_genes = False)\n",
    "write_to_dcell(mf, data_root+'mf_080.topo', remove_root_attached_genes = False)"
   ]
  },
  {
   "cell_type": "code",
   "execution_count": 14,
   "metadata": {},
   "outputs": [
    {
     "name": "stdout",
     "output_type": "stream",
     "text": [
      "dropping 18826 gene-term\n",
      "dropping 17688 gene-term\n",
      "dropping 17066 gene-term\n"
     ]
    }
   ],
   "source": [
    "write_to_dcell(cc, data_root+'cc_080_drop.topo', remove_root_attached_genes = True)\n",
    "write_to_dcell(bp, data_root+'bp_080_drop.topo', remove_root_attached_genes = True)\n",
    "write_to_dcell(mf, data_root+'mf_080_drop.topo', remove_root_attached_genes = True)"
   ]
  },
  {
   "cell_type": "code",
   "execution_count": null,
   "metadata": {},
   "outputs": [],
   "source": []
  }
 ],
 "metadata": {
  "kernelspec": {
   "display_name": "ddot",
   "language": "python",
   "name": "ddot"
  },
  "language_info": {
   "codemirror_mode": {
    "name": "ipython",
    "version": 3
   },
   "file_extension": ".py",
   "mimetype": "text/x-python",
   "name": "python",
   "nbconvert_exporter": "python",
   "pygments_lexer": "ipython3",
   "version": "3.7.6"
  }
 },
 "nbformat": 4,
 "nbformat_minor": 2
}
