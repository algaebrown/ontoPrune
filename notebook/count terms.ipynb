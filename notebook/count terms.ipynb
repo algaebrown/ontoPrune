{
 "cells": [
  {
   "cell_type": "code",
   "execution_count": 1,
   "metadata": {},
   "outputs": [
    {
     "name": "stdout",
     "output_type": "stream",
     "text": [
      "  EXISTS: go-basic.obo\n",
      "  EXISTS: gene2go\n",
      "go-basic.obo: fmt(1.2) rel(2020-01-01) 47,337 GO Terms\n"
     ]
    }
   ],
   "source": [
    "# Get http://geneontology.org/ontology/go-basic.obo\n",
    "from goatools.base import download_go_basic_obo\n",
    "obo_fname = download_go_basic_obo()\n",
    "# Get ftp://ftp.ncbi.nlm.nih.gov/gene/DATA/gene2go.gz\n",
    "from goatools.base import download_ncbi_associations\n",
    "gene2go = download_ncbi_associations()\n",
    "from goatools.obo_parser import GODag\n",
    "obodag = GODag(\"go-basic.obo\")"
   ]
  },
  {
   "cell_type": "code",
   "execution_count": 2,
   "metadata": {},
   "outputs": [
    {
     "name": "stdout",
     "output_type": "stream",
     "text": [
      "DEPRECATED read_ncbi_gene2go: USE Gene2GoReader FROM goatools.anno.genetogo_reader\n",
      "DEPRECATED read_ncbi_gene2go CALLED FROM: <ipython-input-2-c14d79b3c135> BY <module>\n",
      "HMS:0:00:06.921799 323,107 annotations READ: gene2go \n",
      "1 taxids stored: 9606\n",
      "12285 IDs in loaded association branch, BP\n",
      "12285 GO terms associated with human NCBI Entrez GeneIDs\n"
     ]
    }
   ],
   "source": [
    "# how many gene in each GO term\n",
    "# use human\n",
    "from goatools.associations import read_ncbi_gene2go\n",
    "\n",
    "go2geneids_human = read_ncbi_gene2go(\"gene2go\", taxids=[9606], namespace='BP', go2geneids=True)\n",
    "print(\"{N} GO terms associated with human NCBI Entrez GeneIDs\".format(N=len(go2geneids_human)))"
   ]
  },
  {
   "cell_type": "code",
   "execution_count": 3,
   "metadata": {},
   "outputs": [
    {
     "data": {
      "text/plain": [
       "12285"
      ]
     },
     "execution_count": 3,
     "metadata": {},
     "output_type": "execute_result"
    }
   ],
   "source": [
    "len(go2geneids_human) # dictionary of each go term with the genes associated with it"
   ]
  },
  {
   "cell_type": "code",
   "execution_count": 4,
   "metadata": {},
   "outputs": [
    {
     "data": {
      "text/plain": [
       "124"
      ]
     },
     "execution_count": 4,
     "metadata": {},
     "output_type": "execute_result"
    }
   ],
   "source": [
    "len(go2geneids_human['GO:0002576'])"
   ]
  },
  {
   "cell_type": "code",
   "execution_count": 5,
   "metadata": {},
   "outputs": [],
   "source": [
    "def go2gene_count(go2geneids):\n",
    "    '''\n",
    "    count how many genes associate with each GO term at bottom level\n",
    "    '''\n",
    "    sizes = [len(go2geneids[term]) for term in go2geneids.keys()]\n",
    "    return(dict(zip(go2geneids.keys(), sizes)))\n",
    "count_dict = go2gene_count(go2geneids_human)"
   ]
  },
  {
   "cell_type": "code",
   "execution_count": 6,
   "metadata": {},
   "outputs": [
    {
     "data": {
      "text/plain": [
       "True"
      ]
     },
     "execution_count": 6,
     "metadata": {},
     "output_type": "execute_result"
    }
   ],
   "source": [
    "# test\n",
    "count_dict['GO:0002576'] == len(go2geneids_human['GO:0002576'])"
   ]
  },
  {
   "cell_type": "code",
   "execution_count": 7,
   "metadata": {},
   "outputs": [
    {
     "data": {
      "text/plain": [
       "12285"
      ]
     },
     "execution_count": 7,
     "metadata": {},
     "output_type": "execute_result"
    }
   ],
   "source": [
    "len(count_dict)"
   ]
  },
  {
   "cell_type": "code",
   "execution_count": 8,
   "metadata": {},
   "outputs": [],
   "source": [
    "# go-basic is acyclic\n",
    "# parent = sum of child. \n",
    "# need to record the # of each child"
   ]
  },
  {
   "cell_type": "code",
   "execution_count": 10,
   "metadata": {},
   "outputs": [],
   "source": [
    "# propagae\n",
    "\n",
    "def count_gene(term, add, gene_associated = True):\n",
    "    #print(term)\n",
    "    if term not in aggr_count_dict.keys(): #if first time counted\n",
    "        aggr_count_dict[term] = add # add the number to count dict\n",
    "    elif gene_associated: # if new genes come in \n",
    "        aggr_count_dict[term] = aggr_count_dict[term] + add # add the genes\n",
    "    \n",
    "    # also add to parents\n",
    "    try:\n",
    "        parents = obodag[term]._parents\n",
    "    except:\n",
    "        parents = set()\n",
    "        print(term, ' dont exist')\n",
    "    for p in parents:\n",
    "        if p not in aggr_count_dict.keys(): #if first time counted\n",
    "            aggr_count_dict[p] = add\n",
    "        else:\n",
    "            aggr_count_dict[p] = aggr_count_dict[p] + add\n",
    "        if p!= 'GO:0008150': # if not BP, root reachned\n",
    "            count_gene(p, aggr_count_dict[p], gene_associated = False) # continue propagate to parent\n",
    "    \n",
    "    "
   ]
  },
  {
   "cell_type": "code",
   "execution_count": 12,
   "metadata": {
    "scrolled": true
   },
   "outputs": [],
   "source": [
    "aggr_count_dict = {}\n",
    "count_gene('GO:0002576', count_dict['GO:0002576'])"
   ]
  },
  {
   "cell_type": "code",
   "execution_count": 13,
   "metadata": {},
   "outputs": [
    {
     "data": {
      "text/plain": [
       "{'GO:0002576': 124,\n",
       " 'GO:0045055': 124,\n",
       " 'GO:0006887': 124,\n",
       " 'GO:0016192': 124,\n",
       " 'GO:0006810': 372,\n",
       " 'GO:0051234': 744,\n",
       " 'GO:0051179': 1240,\n",
       " 'GO:0008150': 1984,\n",
       " 'GO:0032940': 124,\n",
       " 'GO:0046903': 124,\n",
       " 'GO:0140352': 124,\n",
       " 'GO:0009987': 124}"
      ]
     },
     "execution_count": 13,
     "metadata": {},
     "output_type": "execute_result"
    }
   ],
   "source": [
    "aggr_count_dict"
   ]
  },
  {
   "cell_type": "code",
   "execution_count": 14,
   "metadata": {},
   "outputs": [
    {
     "name": "stdout",
     "output_type": "stream",
     "text": [
      "GO:0060154  dont exist\n",
      "GO:0061396  dont exist\n",
      "GO:0052213  dont exist\n",
      "GO:0072363  dont exist\n",
      "GO:0052106  dont exist\n",
      "GO:1901350  dont exist\n",
      "GO:1902583  dont exist\n",
      "GO:1990967  dont exist\n",
      "GO:0072362  dont exist\n",
      "GO:0098504  dont exist\n"
     ]
    }
   ],
   "source": [
    "_ = [count_gene(term, count_dict[term]) for term in count_dict.keys()]\n",
    "# seems some don't exist"
   ]
  },
  {
   "cell_type": "code",
   "execution_count": null,
   "metadata": {},
   "outputs": [],
   "source": [
    "obodag['GO:0060154'] # not in?"
   ]
  },
  {
   "cell_type": "code",
   "execution_count": null,
   "metadata": {},
   "outputs": [],
   "source": [
    "import pandas as pd\n",
    "df = pd.DataFrame.from_dict(aggr_count_dict, orient = 'index', columns = ['size'])\n",
    "df.shape"
   ]
  },
  {
   "cell_type": "code",
   "execution_count": null,
   "metadata": {},
   "outputs": [],
   "source": [
    "df.to_csv('human_bp_count.csv')"
   ]
  },
  {
   "cell_type": "code",
   "execution_count": null,
   "metadata": {},
   "outputs": [],
   "source": []
  }
 ],
 "metadata": {
  "kernelspec": {
   "display_name": "ontoPrune",
   "language": "python",
   "name": "ontoprune"
  },
  "language_info": {
   "codemirror_mode": {
    "name": "ipython",
    "version": 3
   },
   "file_extension": ".py",
   "mimetype": "text/x-python",
   "name": "python",
   "nbconvert_exporter": "python",
   "pygments_lexer": "ipython3",
   "version": "3.7.4"
  }
 },
 "nbformat": 4,
 "nbformat_minor": 2
}
