{
 "cells": [
  {
   "cell_type": "code",
   "execution_count": 1,
   "metadata": {},
   "outputs": [
    {
     "name": "stderr",
     "output_type": "stream",
     "text": [
      "/cellar/users/hsher/miniconda3/envs/ddot/lib/python3.7/site-packages/ddot/Ontology.py:387: FutureWarning: The signature of `Series.to_csv` was aligned to that of `DataFrame.to_csv`, and argument 'header' will change its default value from False to True: please pass an explicit value to suppress this warning.\n",
      "  pd.Series(id2name).to_csv(id2name_file, sep='\\t')\n",
      "/cellar/users/hsher/miniconda3/envs/ddot/lib/python3.7/site-packages/ddot/Ontology.py:388: FutureWarning: The signature of `Series.to_csv` was aligned to that of `DataFrame.to_csv`, and argument 'header' will change its default value from False to True: please pass an explicit value to suppress this warning.\n",
      "  pd.Series(id2namespace).to_csv(id2namespace_file, sep='\\t')\n",
      "/cellar/users/hsher/miniconda3/envs/ddot/lib/python3.7/site-packages/ddot/Ontology.py:389: FutureWarning: The signature of `Series.to_csv` was aligned to that of `DataFrame.to_csv`, and argument 'header' will change its default value from False to True: please pass an explicit value to suppress this warning.\n",
      "  pd.Series(dict([(a, c) for a, b in alt_id.items() for c in b])).to_csv(alt_id_file, sep='\\t')\n",
      "/cellar/users/hsher/miniconda3/envs/ddot/lib/python3.7/site-packages/IPython/core/interactiveshell.py:3214: DtypeWarning: Columns (15) have mixed types. Specify dtype option on import or set low_memory=False.\n",
      "  if (yield from self.run_code(code, result)):\n"
     ]
    },
    {
     "name": "stdout",
     "output_type": "stream",
     "text": [
      "WARNING: Dropping 207054 duplicate gene-term connections\n"
     ]
    }
   ],
   "source": [
    "# load gene ontology and human GAF\n",
    "from ddot.Ontology import parse_obo\n",
    "parse_obo('go-basic.obo', output_file = 'go.ddot', id2name_file = 'go_id2name.ddot', id2namespace_file = 'go_id2namespace.ddot')\n",
    "from ddot.Ontology import parse_gaf\n",
    "gaf = parse_gaf('goa_human.gaf')\n",
    "from ddot import Ontology\n",
    "go = Ontology.from_table('go.ddot', mapping = gaf, mapping_parent = 'GO ID', mapping_child = 'DB Object Symbol', propagate = None)"
   ]
  },
  {
   "cell_type": "code",
   "execution_count": 2,
   "metadata": {},
   "outputs": [],
   "source": [
    "# import pacakge\n",
    "import sys\n",
    "sys.path.append('/cellar/users/hsher/ontoPrune')\n",
    "from ontoPrune.entropy import *"
   ]
  },
  {
   "cell_type": "code",
   "execution_count": 3,
   "metadata": {},
   "outputs": [
    {
     "name": "stderr",
     "output_type": "stream",
     "text": [
      "/cellar/users/hsher/ontoPrune/ontoPrune/entropy.py:32: FutureWarning: Sorting because non-concatenation axis is not aligned. A future version\n",
      "of pandas will change to not sort by default.\n",
      "\n",
      "To accept the future behavior, pass 'sort=False'.\n",
      "\n",
      "To retain the current behavior and silence the warning, pass 'sort=True'.\n",
      "\n",
      "  ont_count = pd.concat([dir_count, indir_count, term_count], axis = 1)\n"
     ]
    }
   ],
   "source": [
    "go_count = count_gene(go)"
   ]
  },
  {
   "cell_type": "markdown",
   "metadata": {},
   "source": [
    "# How many times do we need to remove 1 term-term, 1 gene per term?"
   ]
  },
  {
   "cell_type": "code",
   "execution_count": 4,
   "metadata": {},
   "outputs": [
    {
     "name": "stdout",
     "output_type": "stream",
     "text": [
      "running iteration 0\n",
      "running iteration 1\n",
      "running iteration 2\n",
      "running iteration 3\n",
      "running iteration 4\n",
      "running iteration 5\n",
      "running iteration 6\n",
      "running iteration 7\n"
     ]
    }
   ],
   "source": [
    "term_count = []\n",
    "for n_iter in range(8):\n",
    "    print('running iteration {}'.format(n_iter))\n",
    "    delete_empty_term(go, go_count)\n",
    "    term_count.append(len(go.terms))\n",
    "    go_count = count_gene(go) # after go term deletion need to re count since some terms are gone\n"
   ]
  },
  {
   "cell_type": "code",
   "execution_count": null,
   "metadata": {},
   "outputs": [
    {
     "data": {
      "text/plain": [
       "Text(0.5, 0, 'No. iteration')"
      ]
     },
     "execution_count": 5,
     "metadata": {},
     "output_type": "execute_result"
    },
    {
     "data": {
      "image/png": "[encoded data removed]",
      "text/plain": [
       "<Figure size 432x288 with 1 Axes>"
      ]
     },
     "metadata": {
      "needs_background": "light"
     },
     "output_type": "display_data"
    }
   ],
   "source": [
    "import matplotlib.pyplot as plt\n",
    "%matplotlib inline\n",
    "plt.plot(term_count)\n",
    "plt.ylabel('No. terms')\n",
    "plt.xlabel('No. iteration')\n",
    "# gradually set to ~17000 terms"
   ]
  },
  {
   "cell_type": "code",
   "execution_count": 11,
   "metadata": {},
   "outputs": [
    {
     "data": {
      "text/html": [
       "<div>\n",
       "<style scoped>\n",
       "    .dataframe tbody tr th:only-of-type {\n",
       "        vertical-align: middle;\n",
       "    }\n",
       "\n",
       "    .dataframe tbody tr th {\n",
       "        vertical-align: top;\n",
       "    }\n",
       "\n",
       "    .dataframe thead th {\n",
       "        text-align: right;\n",
       "    }\n",
       "</style>\n",
       "<table border=\"1\" class=\"dataframe\">\n",
       "  <thead>\n",
       "    <tr style=\"text-align: right;\">\n",
       "      <th></th>\n",
       "      <th>direct gene count</th>\n",
       "      <th>indirect gene count</th>\n",
       "      <th>term count</th>\n",
       "      <th>normalized entropy</th>\n",
       "    </tr>\n",
       "  </thead>\n",
       "  <tbody>\n",
       "  </tbody>\n",
       "</table>\n",
       "</div>"
      ],
      "text/plain": [
       "Empty DataFrame\n",
       "Columns: [direct gene count, indirect gene count, term count, normalized entropy]\n",
       "Index: []"
      ]
     },
     "execution_count": 11,
     "metadata": {},
     "output_type": "execute_result"
    }
   ],
   "source": [
    "go_count.loc[go_count['indirect gene count']==1] # no term has one gene"
   ]
  },
  {
   "cell_type": "code",
   "execution_count": 12,
   "metadata": {},
   "outputs": [
    {
     "data": {
      "text/html": [
       "<div>\n",
       "<style scoped>\n",
       "    .dataframe tbody tr th:only-of-type {\n",
       "        vertical-align: middle;\n",
       "    }\n",
       "\n",
       "    .dataframe tbody tr th {\n",
       "        vertical-align: top;\n",
       "    }\n",
       "\n",
       "    .dataframe thead th {\n",
       "        text-align: right;\n",
       "    }\n",
       "</style>\n",
       "<table border=\"1\" class=\"dataframe\">\n",
       "  <thead>\n",
       "    <tr style=\"text-align: right;\">\n",
       "      <th></th>\n",
       "      <th>direct gene count</th>\n",
       "      <th>indirect gene count</th>\n",
       "      <th>term count</th>\n",
       "      <th>normalized entropy</th>\n",
       "    </tr>\n",
       "  </thead>\n",
       "  <tbody>\n",
       "  </tbody>\n",
       "</table>\n",
       "</div>"
      ],
      "text/plain": [
       "Empty DataFrame\n",
       "Columns: [direct gene count, indirect gene count, term count, normalized entropy]\n",
       "Index: []"
      ]
     },
     "execution_count": 12,
     "metadata": {},
     "output_type": "execute_result"
    }
   ],
   "source": [
    "go_count.loc[go_count['indirect gene count']==0] # no term has 0 gene"
   ]
  },
  {
   "cell_type": "code",
   "execution_count": 13,
   "metadata": {},
   "outputs": [
    {
     "data": {
      "text/html": [
       "<div>\n",
       "<style scoped>\n",
       "    .dataframe tbody tr th:only-of-type {\n",
       "        vertical-align: middle;\n",
       "    }\n",
       "\n",
       "    .dataframe tbody tr th {\n",
       "        vertical-align: top;\n",
       "    }\n",
       "\n",
       "    .dataframe thead th {\n",
       "        text-align: right;\n",
       "    }\n",
       "</style>\n",
       "<table border=\"1\" class=\"dataframe\">\n",
       "  <thead>\n",
       "    <tr style=\"text-align: right;\">\n",
       "      <th></th>\n",
       "      <th>direct gene count</th>\n",
       "      <th>indirect gene count</th>\n",
       "      <th>term count</th>\n",
       "      <th>normalized entropy</th>\n",
       "    </tr>\n",
       "  </thead>\n",
       "  <tbody>\n",
       "  </tbody>\n",
       "</table>\n",
       "</div>"
      ],
      "text/plain": [
       "Empty DataFrame\n",
       "Columns: [direct gene count, indirect gene count, term count, normalized entropy]\n",
       "Index: []"
      ]
     },
     "execution_count": 13,
     "metadata": {},
     "output_type": "execute_result"
    }
   ],
   "source": [
    "go_count.loc[go_count['direct gene count']+go_count['term count'] == 1] # no term has only 1 child"
   ]
  },
  {
   "cell_type": "markdown",
   "metadata": {},
   "source": [
    "# Calculate Entropy"
   ]
  },
  {
   "cell_type": "code",
   "execution_count": 15,
   "metadata": {},
   "outputs": [
    {
     "name": "stdout",
     "output_type": "stream",
     "text": [
      "calculating term 0\n",
      "calculating term 1000\n",
      "calculating term 2000\n",
      "calculating term 3000\n",
      "calculating term 4000\n",
      "calculating term 5000\n",
      "calculating term 6000\n",
      "calculating term 7000\n",
      "calculating term 8000\n",
      "calculating term 9000\n",
      "calculating term 10000\n",
      "calculating term 11000\n",
      "calculating term 12000\n",
      "calculating term 13000\n",
      "calculating term 14000\n",
      "calculating term 15000\n",
      "calculating term 16000\n",
      "calculating term 17000\n"
     ]
    }
   ],
   "source": [
    "go_table = go.to_table()\n",
    "n = 0\n",
    "for term in go.terms:\n",
    "    if n%1000 == 0:\n",
    "        print('calculating term {}'.format(n))\n",
    "    go_count.loc[term, 'normalized entropy'] = one_term_entropy(term, go_table,go_count)\n",
    "    n+=1"
   ]
  },
  {
   "cell_type": "code",
   "execution_count": 16,
   "metadata": {},
   "outputs": [],
   "source": [
    "# save entropy\n",
    "go_count.to_pickle('~/ontoPrune/data/term_entorpy.pickle')\n",
    "go_count.to_csv('~/ontoPrune/data/term_entorpy.csv')\n",
    "# save trimmed go\n",
    "go.to_pickle('~/ontoPrune/data/prune_go.pickle')"
   ]
  },
  {
   "cell_type": "code",
   "execution_count": 17,
   "metadata": {},
   "outputs": [
    {
     "data": {
      "text/html": [
       "<div>\n",
       "<style scoped>\n",
       "    .dataframe tbody tr th:only-of-type {\n",
       "        vertical-align: middle;\n",
       "    }\n",
       "\n",
       "    .dataframe tbody tr th {\n",
       "        vertical-align: top;\n",
       "    }\n",
       "\n",
       "    .dataframe thead th {\n",
       "        text-align: right;\n",
       "    }\n",
       "</style>\n",
       "<table border=\"1\" class=\"dataframe\">\n",
       "  <thead>\n",
       "    <tr style=\"text-align: right;\">\n",
       "      <th></th>\n",
       "      <th>direct gene count</th>\n",
       "      <th>indirect gene count</th>\n",
       "      <th>term count</th>\n",
       "      <th>normalized entropy</th>\n",
       "    </tr>\n",
       "  </thead>\n",
       "  <tbody>\n",
       "    <tr>\n",
       "      <th>GO:0000002</th>\n",
       "      <td>12.0</td>\n",
       "      <td>22</td>\n",
       "      <td>1.0</td>\n",
       "      <td>0.734947</td>\n",
       "    </tr>\n",
       "    <tr>\n",
       "      <th>GO:0000003</th>\n",
       "      <td>5.0</td>\n",
       "      <td>1462</td>\n",
       "      <td>3.0</td>\n",
       "      <td>0.517207</td>\n",
       "    </tr>\n",
       "    <tr>\n",
       "      <th>GO:0000010</th>\n",
       "      <td>2.0</td>\n",
       "      <td>2</td>\n",
       "      <td>0.0</td>\n",
       "      <td>1.000000</td>\n",
       "    </tr>\n",
       "    <tr>\n",
       "      <th>GO:0000012</th>\n",
       "      <td>12.0</td>\n",
       "      <td>13</td>\n",
       "      <td>2.0</td>\n",
       "      <td>0.969207</td>\n",
       "    </tr>\n",
       "    <tr>\n",
       "      <th>GO:0000014</th>\n",
       "      <td>10.0</td>\n",
       "      <td>11</td>\n",
       "      <td>1.0</td>\n",
       "      <td>0.963938</td>\n",
       "    </tr>\n",
       "  </tbody>\n",
       "</table>\n",
       "</div>"
      ],
      "text/plain": [
       "            direct gene count  indirect gene count  term count  \\\n",
       "GO:0000002               12.0                   22         1.0   \n",
       "GO:0000003                5.0                 1462         3.0   \n",
       "GO:0000010                2.0                    2         0.0   \n",
       "GO:0000012               12.0                   13         2.0   \n",
       "GO:0000014               10.0                   11         1.0   \n",
       "\n",
       "            normalized entropy  \n",
       "GO:0000002            0.734947  \n",
       "GO:0000003            0.517207  \n",
       "GO:0000010            1.000000  \n",
       "GO:0000012            0.969207  \n",
       "GO:0000014            0.963938  "
      ]
     },
     "execution_count": 17,
     "metadata": {},
     "output_type": "execute_result"
    }
   ],
   "source": [
    "go_count.head()"
   ]
  },
  {
   "cell_type": "code",
   "execution_count": null,
   "metadata": {},
   "outputs": [],
   "source": []
  }
 ],
 "metadata": {
  "kernelspec": {
   "display_name": "ddot",
   "language": "python",
   "name": "ddot"
  },
  "language_info": {
   "codemirror_mode": {
    "name": "ipython",
    "version": 3
   },
   "file_extension": ".py",
   "mimetype": "text/x-python",
   "name": "python",
   "nbconvert_exporter": "python",
   "pygments_lexer": "ipython3",
   "version": "3.7.6"
  }
 },
 "nbformat": 4,
 "nbformat_minor": 2
}
