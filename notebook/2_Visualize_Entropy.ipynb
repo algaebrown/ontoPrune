{
 "cells": [
  {
   "cell_type": "markdown",
   "metadata": {},
   "source": [
    "# Visualize the distribution of term entropy\n",
    "- Need to run the first notebook before this exploratory analysis!\n",
    "\n",
    "## Load GOATTOOLS that contains some description of GO"
   ]
  },
  {
   "cell_type": "code",
   "execution_count": 1,
   "metadata": {},
   "outputs": [
    {
     "name": "stdout",
     "output_type": "stream",
     "text": [
      "  EXISTS: go-basic.obo\n",
      "  EXISTS: gene2go\n",
      "go-basic.obo: fmt(1.2) rel(2020-01-01) 47,337 GO Terms\n"
     ]
    }
   ],
   "source": [
    "# Get http://geneontology.org/ontology/go-basic.obo\n",
    "from goatools.base import download_go_basic_obo\n",
    "obo_fname = download_go_basic_obo()\n",
    "# Get ftp://ftp.ncbi.nlm.nih.gov/gene/DATA/gene2go.gz\n",
    "from goatools.base import download_ncbi_associations\n",
    "gene2go = download_ncbi_associations()\n",
    "from goatools.obo_parser import GODag\n",
    "obodag = GODag(\"go-basic.obo\")"
   ]
  },
  {
   "cell_type": "markdown",
   "metadata": {},
   "source": [
    "## Load precomputed term entropy"
   ]
  },
  {
   "cell_type": "code",
   "execution_count": 2,
   "metadata": {},
   "outputs": [],
   "source": [
    "import pandas as pd\n",
    "term_entropy = pd.read_pickle(\"~/ontoPrune/data/term_entropy.pickle\")\n"
   ]
  },
  {
   "cell_type": "code",
   "execution_count": 3,
   "metadata": {},
   "outputs": [],
   "source": [
    "# add more info\n",
    "term_entropy['name'] = [obodag[term].name for term in term_entropy.index]\n",
    "term_entropy['level'] = [obodag[term].level for term in term_entropy.index] # original depth in GO\n",
    "term_entropy['depth'] = [obodag[term].depth for term in term_entropy.index]"
   ]
  },
  {
   "cell_type": "code",
   "execution_count": 4,
   "metadata": {},
   "outputs": [
    {
     "data": {
      "text/html": [
       "<div>\n",
       "<style scoped>\n",
       "    .dataframe tbody tr th:only-of-type {\n",
       "        vertical-align: middle;\n",
       "    }\n",
       "\n",
       "    .dataframe tbody tr th {\n",
       "        vertical-align: top;\n",
       "    }\n",
       "\n",
       "    .dataframe thead th {\n",
       "        text-align: right;\n",
       "    }\n",
       "</style>\n",
       "<table border=\"1\" class=\"dataframe\">\n",
       "  <thead>\n",
       "    <tr style=\"text-align: right;\">\n",
       "      <th></th>\n",
       "      <th>direct gene count</th>\n",
       "      <th>indirect gene count</th>\n",
       "      <th>term count</th>\n",
       "      <th>normalized entropy</th>\n",
       "      <th>name</th>\n",
       "      <th>level</th>\n",
       "      <th>depth</th>\n",
       "    </tr>\n",
       "  </thead>\n",
       "  <tbody>\n",
       "    <tr>\n",
       "      <th>GO:0000002</th>\n",
       "      <td>12.0</td>\n",
       "      <td>22</td>\n",
       "      <td>1.0</td>\n",
       "      <td>0.734947</td>\n",
       "      <td>mitochondrial genome maintenance</td>\n",
       "      <td>5</td>\n",
       "      <td>5</td>\n",
       "    </tr>\n",
       "    <tr>\n",
       "      <th>GO:0000003</th>\n",
       "      <td>5.0</td>\n",
       "      <td>1462</td>\n",
       "      <td>3.0</td>\n",
       "      <td>0.517207</td>\n",
       "      <td>reproduction</td>\n",
       "      <td>1</td>\n",
       "      <td>1</td>\n",
       "    </tr>\n",
       "    <tr>\n",
       "      <th>GO:0000010</th>\n",
       "      <td>2.0</td>\n",
       "      <td>2</td>\n",
       "      <td>0.0</td>\n",
       "      <td>1.000000</td>\n",
       "      <td>trans-hexaprenyltranstransferase activity</td>\n",
       "      <td>4</td>\n",
       "      <td>4</td>\n",
       "    </tr>\n",
       "    <tr>\n",
       "      <th>GO:0000012</th>\n",
       "      <td>12.0</td>\n",
       "      <td>13</td>\n",
       "      <td>2.0</td>\n",
       "      <td>0.969207</td>\n",
       "      <td>single strand break repair</td>\n",
       "      <td>6</td>\n",
       "      <td>8</td>\n",
       "    </tr>\n",
       "    <tr>\n",
       "      <th>GO:0000014</th>\n",
       "      <td>10.0</td>\n",
       "      <td>11</td>\n",
       "      <td>1.0</td>\n",
       "      <td>0.963938</td>\n",
       "      <td>single-stranded DNA endodeoxyribonuclease acti...</td>\n",
       "      <td>5</td>\n",
       "      <td>7</td>\n",
       "    </tr>\n",
       "  </tbody>\n",
       "</table>\n",
       "</div>"
      ],
      "text/plain": [
       "            direct gene count  indirect gene count  term count  \\\n",
       "GO:0000002               12.0                   22         1.0   \n",
       "GO:0000003                5.0                 1462         3.0   \n",
       "GO:0000010                2.0                    2         0.0   \n",
       "GO:0000012               12.0                   13         2.0   \n",
       "GO:0000014               10.0                   11         1.0   \n",
       "\n",
       "            normalized entropy  \\\n",
       "GO:0000002            0.734947   \n",
       "GO:0000003            0.517207   \n",
       "GO:0000010            1.000000   \n",
       "GO:0000012            0.969207   \n",
       "GO:0000014            0.963938   \n",
       "\n",
       "                                                         name  level  depth  \n",
       "GO:0000002                   mitochondrial genome maintenance      5      5  \n",
       "GO:0000003                                       reproduction      1      1  \n",
       "GO:0000010          trans-hexaprenyltranstransferase activity      4      4  \n",
       "GO:0000012                         single strand break repair      6      8  \n",
       "GO:0000014  single-stranded DNA endodeoxyribonuclease acti...      5      7  "
      ]
     },
     "execution_count": 4,
     "metadata": {},
     "output_type": "execute_result"
    }
   ],
   "source": [
    "term_entropy.head()"
   ]
  },
  {
   "cell_type": "code",
   "execution_count": 5,
   "metadata": {},
   "outputs": [
    {
     "data": {
      "text/plain": [
       "Index(['direct gene count', 'indirect gene count', 'term count',\n",
       "       'normalized entropy', 'name', 'level', 'depth'],\n",
       "      dtype='object')"
      ]
     },
     "execution_count": 5,
     "metadata": {},
     "output_type": "execute_result"
    }
   ],
   "source": [
    "term_entropy.columns"
   ]
  },
  {
   "cell_type": "markdown",
   "metadata": {},
   "source": [
    "# Entropy distribution\n",
    "\n",
    "- normalized entropy is not easily predicted by any of the variables"
   ]
  },
  {
   "cell_type": "code",
   "execution_count": 6,
   "metadata": {},
   "outputs": [],
   "source": [
    "import seaborn as sns\n",
    "g = sns.pairplot(term_entropy, diag_kind=\"kde\", x_vars = ['direct gene count', 'indirect gene count', 'term count',\n",
    "        'level', 'depth'], y_vars = ['normalized entropy'], kind = 'reg')"
   ]
  },
  {
   "cell_type": "code",
   "execution_count": 7,
   "metadata": {},
   "outputs": [
    {
     "data": {
      "text/plain": [
       "<matplotlib.axes._subplots.AxesSubplot at 0x7f6e2e75f610>"
      ]
     },
     "execution_count": 7,
     "metadata": {},
     "output_type": "execute_result"
    },
    {
     "data": {
      "image/png": "[encoded data removed]",
      "text/plain": [
       "<Figure size 432x288 with 1 Axes>"
      ]
     },
     "metadata": {
      "needs_background": "light"
     },
     "output_type": "display_data"
    }
   ],
   "source": [
    "%matplotlib inline\n",
    "term_entropy['normalized entropy'].plot.density()"
   ]
  },
  {
   "cell_type": "code",
   "execution_count": 8,
   "metadata": {},
   "outputs": [
    {
     "data": {
      "text/plain": [
       "0.003259144267723053"
      ]
     },
     "execution_count": 8,
     "metadata": {},
     "output_type": "execute_result"
    }
   ],
   "source": [
    "term_entropy['normalized entropy'].min()"
   ]
  },
  {
   "cell_type": "code",
   "execution_count": 9,
   "metadata": {},
   "outputs": [
    {
     "data": {
      "text/plain": [
       "1.0000000000000004"
      ]
     },
     "execution_count": 9,
     "metadata": {},
     "output_type": "execute_result"
    }
   ],
   "source": [
    "term_entropy['normalized entropy'].max()"
   ]
  },
  {
   "cell_type": "markdown",
   "metadata": {},
   "source": [
    "# some examples of low information terms"
   ]
  },
  {
   "cell_type": "code",
   "execution_count": 10,
   "metadata": {},
   "outputs": [],
   "source": [
    "pruned_go = pd.read_pickle(\"~/ontoPrune/data/prune_go_df.pickle\")\n",
    "def inspect_local_structure(lterm):\n",
    "    '''see what happened for the low info terms'''\n",
    "    \n",
    "    child_id = pruned_go.loc[pruned_go['Parent'] == lterm]\n",
    "    child_size = term_entropy.loc[child_id.loc[child_id['EdgeType'] == 'Child-Parent']['Child']]\n",
    "    \n",
    "    \n",
    "    return(pd.DataFrame(term_entropy.loc[lterm]),pd.DataFrame(child_size))"
   ]
  },
  {
   "cell_type": "code",
   "execution_count": 11,
   "metadata": {},
   "outputs": [
    {
     "data": {
      "text/html": [
       "<div>\n",
       "<style scoped>\n",
       "    .dataframe tbody tr th:only-of-type {\n",
       "        vertical-align: middle;\n",
       "    }\n",
       "\n",
       "    .dataframe tbody tr th {\n",
       "        vertical-align: top;\n",
       "    }\n",
       "\n",
       "    .dataframe thead th {\n",
       "        text-align: right;\n",
       "    }\n",
       "</style>\n",
       "<table border=\"1\" class=\"dataframe\">\n",
       "  <thead>\n",
       "    <tr style=\"text-align: right;\">\n",
       "      <th></th>\n",
       "      <th>direct gene count</th>\n",
       "      <th>indirect gene count</th>\n",
       "      <th>term count</th>\n",
       "      <th>normalized entropy</th>\n",
       "      <th>name</th>\n",
       "      <th>level</th>\n",
       "      <th>depth</th>\n",
       "    </tr>\n",
       "  </thead>\n",
       "  <tbody>\n",
       "    <tr>\n",
       "      <th>GO:0036211</th>\n",
       "      <td>1.0</td>\n",
       "      <td>4127</td>\n",
       "      <td>1.0</td>\n",
       "      <td>0.003259</td>\n",
       "      <td>protein modification process</td>\n",
       "      <td>4</td>\n",
       "      <td>5</td>\n",
       "    </tr>\n",
       "    <tr>\n",
       "      <th>GO:0051674</th>\n",
       "      <td>1.0</td>\n",
       "      <td>1664</td>\n",
       "      <td>1.0</td>\n",
       "      <td>0.007293</td>\n",
       "      <td>localization of cell</td>\n",
       "      <td>2</td>\n",
       "      <td>2</td>\n",
       "    </tr>\n",
       "    <tr>\n",
       "      <th>GO:1902680</th>\n",
       "      <td>2.0</td>\n",
       "      <td>1642</td>\n",
       "      <td>1.0</td>\n",
       "      <td>0.009311</td>\n",
       "      <td>positive regulation of RNA biosynthetic process</td>\n",
       "      <td>7</td>\n",
       "      <td>8</td>\n",
       "    </tr>\n",
       "    <tr>\n",
       "      <th>GO:1902679</th>\n",
       "      <td>2.0</td>\n",
       "      <td>1285</td>\n",
       "      <td>1.0</td>\n",
       "      <td>0.011557</td>\n",
       "      <td>negative regulation of RNA biosynthetic process</td>\n",
       "      <td>7</td>\n",
       "      <td>8</td>\n",
       "    </tr>\n",
       "    <tr>\n",
       "      <th>GO:0097708</th>\n",
       "      <td>5.0</td>\n",
       "      <td>2381</td>\n",
       "      <td>2.0</td>\n",
       "      <td>0.012937</td>\n",
       "      <td>intracellular vesicle</td>\n",
       "      <td>4</td>\n",
       "      <td>5</td>\n",
       "    </tr>\n",
       "    <tr>\n",
       "      <th>...</th>\n",
       "      <td>...</td>\n",
       "      <td>...</td>\n",
       "      <td>...</td>\n",
       "      <td>...</td>\n",
       "      <td>...</td>\n",
       "      <td>...</td>\n",
       "      <td>...</td>\n",
       "    </tr>\n",
       "    <tr>\n",
       "      <th>GO:0005575</th>\n",
       "      <td>444.0</td>\n",
       "      <td>18857</td>\n",
       "      <td>5.0</td>\n",
       "      <td>0.198500</td>\n",
       "      <td>cellular_component</td>\n",
       "      <td>0</td>\n",
       "      <td>0</td>\n",
       "    </tr>\n",
       "    <tr>\n",
       "      <th>GO:0099146</th>\n",
       "      <td>3.0</td>\n",
       "      <td>54</td>\n",
       "      <td>1.0</td>\n",
       "      <td>0.198798</td>\n",
       "      <td>intrinsic component of postsynaptic density me...</td>\n",
       "      <td>7</td>\n",
       "      <td>7</td>\n",
       "    </tr>\n",
       "    <tr>\n",
       "      <th>GO:0001653</th>\n",
       "      <td>5.0</td>\n",
       "      <td>153</td>\n",
       "      <td>3.0</td>\n",
       "      <td>0.199264</td>\n",
       "      <td>peptide receptor activity</td>\n",
       "      <td>3</td>\n",
       "      <td>3</td>\n",
       "    </tr>\n",
       "    <tr>\n",
       "      <th>GO:0034340</th>\n",
       "      <td>8.0</td>\n",
       "      <td>98</td>\n",
       "      <td>1.0</td>\n",
       "      <td>0.199349</td>\n",
       "      <td>response to type I interferon</td>\n",
       "      <td>5</td>\n",
       "      <td>5</td>\n",
       "    </tr>\n",
       "    <tr>\n",
       "      <th>GO:1901362</th>\n",
       "      <td>11.0</td>\n",
       "      <td>4373</td>\n",
       "      <td>15.0</td>\n",
       "      <td>0.199508</td>\n",
       "      <td>organic cyclic compound biosynthetic process</td>\n",
       "      <td>4</td>\n",
       "      <td>4</td>\n",
       "    </tr>\n",
       "  </tbody>\n",
       "</table>\n",
       "<p>237 rows × 7 columns</p>\n",
       "</div>"
      ],
      "text/plain": [
       "            direct gene count  indirect gene count  term count  \\\n",
       "GO:0036211                1.0                 4127         1.0   \n",
       "GO:0051674                1.0                 1664         1.0   \n",
       "GO:1902680                2.0                 1642         1.0   \n",
       "GO:1902679                2.0                 1285         1.0   \n",
       "GO:0097708                5.0                 2381         2.0   \n",
       "...                       ...                  ...         ...   \n",
       "GO:0005575              444.0                18857         5.0   \n",
       "GO:0099146                3.0                   54         1.0   \n",
       "GO:0001653                5.0                  153         3.0   \n",
       "GO:0034340                8.0                   98         1.0   \n",
       "GO:1901362               11.0                 4373        15.0   \n",
       "\n",
       "            normalized entropy  \\\n",
       "GO:0036211            0.003259   \n",
       "GO:0051674            0.007293   \n",
       "GO:1902680            0.009311   \n",
       "GO:1902679            0.011557   \n",
       "GO:0097708            0.012937   \n",
       "...                        ...   \n",
       "GO:0005575            0.198500   \n",
       "GO:0099146            0.198798   \n",
       "GO:0001653            0.199264   \n",
       "GO:0034340            0.199349   \n",
       "GO:1901362            0.199508   \n",
       "\n",
       "                                                         name  level  depth  \n",
       "GO:0036211                       protein modification process      4      5  \n",
       "GO:0051674                               localization of cell      2      2  \n",
       "GO:1902680    positive regulation of RNA biosynthetic process      7      8  \n",
       "GO:1902679    negative regulation of RNA biosynthetic process      7      8  \n",
       "GO:0097708                              intracellular vesicle      4      5  \n",
       "...                                                       ...    ...    ...  \n",
       "GO:0005575                                 cellular_component      0      0  \n",
       "GO:0099146  intrinsic component of postsynaptic density me...      7      7  \n",
       "GO:0001653                          peptide receptor activity      3      3  \n",
       "GO:0034340                      response to type I interferon      5      5  \n",
       "GO:1901362       organic cyclic compound biosynthetic process      4      4  \n",
       "\n",
       "[237 rows x 7 columns]"
      ]
     },
     "execution_count": 11,
     "metadata": {},
     "output_type": "execute_result"
    }
   ],
   "source": [
    "term_entropy.loc[term_entropy['normalized entropy'] < 0.2].sort_values(by = 'normalized entropy')"
   ]
  },
  {
   "cell_type": "code",
   "execution_count": 12,
   "metadata": {},
   "outputs": [],
   "source": [
    "t,d = inspect_local_structure('GO:0036211')"
   ]
  },
  {
   "cell_type": "code",
   "execution_count": 13,
   "metadata": {},
   "outputs": [
    {
     "data": {
      "text/html": [
       "<div>\n",
       "<style scoped>\n",
       "    .dataframe tbody tr th:only-of-type {\n",
       "        vertical-align: middle;\n",
       "    }\n",
       "\n",
       "    .dataframe tbody tr th {\n",
       "        vertical-align: top;\n",
       "    }\n",
       "\n",
       "    .dataframe thead th {\n",
       "        text-align: right;\n",
       "    }\n",
       "</style>\n",
       "<table border=\"1\" class=\"dataframe\">\n",
       "  <thead>\n",
       "    <tr style=\"text-align: right;\">\n",
       "      <th></th>\n",
       "      <th>GO:0036211</th>\n",
       "    </tr>\n",
       "  </thead>\n",
       "  <tbody>\n",
       "    <tr>\n",
       "      <th>direct gene count</th>\n",
       "      <td>1</td>\n",
       "    </tr>\n",
       "    <tr>\n",
       "      <th>indirect gene count</th>\n",
       "      <td>4127</td>\n",
       "    </tr>\n",
       "    <tr>\n",
       "      <th>term count</th>\n",
       "      <td>1</td>\n",
       "    </tr>\n",
       "    <tr>\n",
       "      <th>normalized entropy</th>\n",
       "      <td>0.00325914</td>\n",
       "    </tr>\n",
       "    <tr>\n",
       "      <th>name</th>\n",
       "      <td>protein modification process</td>\n",
       "    </tr>\n",
       "    <tr>\n",
       "      <th>level</th>\n",
       "      <td>4</td>\n",
       "    </tr>\n",
       "    <tr>\n",
       "      <th>depth</th>\n",
       "      <td>5</td>\n",
       "    </tr>\n",
       "  </tbody>\n",
       "</table>\n",
       "</div>"
      ],
      "text/plain": [
       "                                       GO:0036211\n",
       "direct gene count                               1\n",
       "indirect gene count                          4127\n",
       "term count                                      1\n",
       "normalized entropy                     0.00325914\n",
       "name                 protein modification process\n",
       "level                                           4\n",
       "depth                                           5"
      ]
     },
     "execution_count": 13,
     "metadata": {},
     "output_type": "execute_result"
    }
   ],
   "source": [
    "t"
   ]
  },
  {
   "cell_type": "code",
   "execution_count": 14,
   "metadata": {},
   "outputs": [
    {
     "data": {
      "text/html": [
       "<div>\n",
       "<style scoped>\n",
       "    .dataframe tbody tr th:only-of-type {\n",
       "        vertical-align: middle;\n",
       "    }\n",
       "\n",
       "    .dataframe tbody tr th {\n",
       "        vertical-align: top;\n",
       "    }\n",
       "\n",
       "    .dataframe thead th {\n",
       "        text-align: right;\n",
       "    }\n",
       "</style>\n",
       "<table border=\"1\" class=\"dataframe\">\n",
       "  <thead>\n",
       "    <tr style=\"text-align: right;\">\n",
       "      <th></th>\n",
       "      <th>direct gene count</th>\n",
       "      <th>indirect gene count</th>\n",
       "      <th>term count</th>\n",
       "      <th>normalized entropy</th>\n",
       "      <th>name</th>\n",
       "      <th>level</th>\n",
       "      <th>depth</th>\n",
       "    </tr>\n",
       "  </thead>\n",
       "  <tbody>\n",
       "    <tr>\n",
       "      <th>GO:0006464</th>\n",
       "      <td>98.0</td>\n",
       "      <td>4127</td>\n",
       "      <td>41.0</td>\n",
       "      <td>0.507747</td>\n",
       "      <td>cellular protein modification process</td>\n",
       "      <td>5</td>\n",
       "      <td>6</td>\n",
       "    </tr>\n",
       "  </tbody>\n",
       "</table>\n",
       "</div>"
      ],
      "text/plain": [
       "            direct gene count  indirect gene count  term count  \\\n",
       "GO:0006464               98.0                 4127        41.0   \n",
       "\n",
       "            normalized entropy                                   name  level  \\\n",
       "GO:0006464            0.507747  cellular protein modification process      5   \n",
       "\n",
       "            depth  \n",
       "GO:0006464      6  "
      ]
     },
     "execution_count": 14,
     "metadata": {},
     "output_type": "execute_result"
    }
   ],
   "source": [
    "d"
   ]
  },
  {
   "cell_type": "code",
   "execution_count": 15,
   "metadata": {},
   "outputs": [],
   "source": [
    "t,d = inspect_local_structure('GO:0097708')"
   ]
  },
  {
   "cell_type": "code",
   "execution_count": 16,
   "metadata": {},
   "outputs": [
    {
     "data": {
      "text/html": [
       "<div>\n",
       "<style scoped>\n",
       "    .dataframe tbody tr th:only-of-type {\n",
       "        vertical-align: middle;\n",
       "    }\n",
       "\n",
       "    .dataframe tbody tr th {\n",
       "        vertical-align: top;\n",
       "    }\n",
       "\n",
       "    .dataframe thead th {\n",
       "        text-align: right;\n",
       "    }\n",
       "</style>\n",
       "<table border=\"1\" class=\"dataframe\">\n",
       "  <thead>\n",
       "    <tr style=\"text-align: right;\">\n",
       "      <th></th>\n",
       "      <th>GO:0097708</th>\n",
       "    </tr>\n",
       "  </thead>\n",
       "  <tbody>\n",
       "    <tr>\n",
       "      <th>direct gene count</th>\n",
       "      <td>5</td>\n",
       "    </tr>\n",
       "    <tr>\n",
       "      <th>indirect gene count</th>\n",
       "      <td>2381</td>\n",
       "    </tr>\n",
       "    <tr>\n",
       "      <th>term count</th>\n",
       "      <td>2</td>\n",
       "    </tr>\n",
       "    <tr>\n",
       "      <th>normalized entropy</th>\n",
       "      <td>0.0129373</td>\n",
       "    </tr>\n",
       "    <tr>\n",
       "      <th>name</th>\n",
       "      <td>intracellular vesicle</td>\n",
       "    </tr>\n",
       "    <tr>\n",
       "      <th>level</th>\n",
       "      <td>4</td>\n",
       "    </tr>\n",
       "    <tr>\n",
       "      <th>depth</th>\n",
       "      <td>5</td>\n",
       "    </tr>\n",
       "  </tbody>\n",
       "</table>\n",
       "</div>"
      ],
      "text/plain": [
       "                                GO:0097708\n",
       "direct gene count                        5\n",
       "indirect gene count                   2381\n",
       "term count                               2\n",
       "normalized entropy               0.0129373\n",
       "name                 intracellular vesicle\n",
       "level                                    4\n",
       "depth                                    5"
      ]
     },
     "execution_count": 16,
     "metadata": {},
     "output_type": "execute_result"
    }
   ],
   "source": [
    "t"
   ]
  },
  {
   "cell_type": "code",
   "execution_count": 17,
   "metadata": {},
   "outputs": [
    {
     "data": {
      "text/html": [
       "<div>\n",
       "<style scoped>\n",
       "    .dataframe tbody tr th:only-of-type {\n",
       "        vertical-align: middle;\n",
       "    }\n",
       "\n",
       "    .dataframe tbody tr th {\n",
       "        vertical-align: top;\n",
       "    }\n",
       "\n",
       "    .dataframe thead th {\n",
       "        text-align: right;\n",
       "    }\n",
       "</style>\n",
       "<table border=\"1\" class=\"dataframe\">\n",
       "  <thead>\n",
       "    <tr style=\"text-align: right;\">\n",
       "      <th></th>\n",
       "      <th>direct gene count</th>\n",
       "      <th>indirect gene count</th>\n",
       "      <th>term count</th>\n",
       "      <th>normalized entropy</th>\n",
       "      <th>name</th>\n",
       "      <th>level</th>\n",
       "      <th>depth</th>\n",
       "    </tr>\n",
       "  </thead>\n",
       "  <tbody>\n",
       "    <tr>\n",
       "      <th>GO:0031410</th>\n",
       "      <td>283.0</td>\n",
       "      <td>2378</td>\n",
       "      <td>14.0</td>\n",
       "      <td>0.433629</td>\n",
       "      <td>cytoplasmic vesicle</td>\n",
       "      <td>5</td>\n",
       "      <td>6</td>\n",
       "    </tr>\n",
       "    <tr>\n",
       "      <th>GO:0097598</th>\n",
       "      <td>2.0</td>\n",
       "      <td>2</td>\n",
       "      <td>0.0</td>\n",
       "      <td>1.000000</td>\n",
       "      <td>sperm cytoplasmic droplet</td>\n",
       "      <td>5</td>\n",
       "      <td>6</td>\n",
       "    </tr>\n",
       "  </tbody>\n",
       "</table>\n",
       "</div>"
      ],
      "text/plain": [
       "            direct gene count  indirect gene count  term count  \\\n",
       "GO:0031410              283.0                 2378        14.0   \n",
       "GO:0097598                2.0                    2         0.0   \n",
       "\n",
       "            normalized entropy                       name  level  depth  \n",
       "GO:0031410            0.433629        cytoplasmic vesicle      5      6  \n",
       "GO:0097598            1.000000  sperm cytoplasmic droplet      5      6  "
      ]
     },
     "execution_count": 17,
     "metadata": {},
     "output_type": "execute_result"
    }
   ],
   "source": [
    "d"
   ]
  },
  {
   "cell_type": "code",
   "execution_count": 18,
   "metadata": {},
   "outputs": [],
   "source": [
    "# overwrite with more information\n",
    "term_entropy.to_pickle(\"~/ontoPrune/data/term_entropy.pickle\")"
   ]
  }
 ],
 "metadata": {
  "kernelspec": {
   "display_name": "ontoPrune",
   "language": "python",
   "name": "ontoprune"
  },
  "language_info": {
   "codemirror_mode": {
    "name": "ipython",
    "version": 3
   },
   "file_extension": ".py",
   "mimetype": "text/x-python",
   "name": "python",
   "nbconvert_exporter": "python",
   "pygments_lexer": "ipython3",
   "version": "3.7.4"
  }
 },
 "nbformat": 4,
 "nbformat_minor": 2
}
