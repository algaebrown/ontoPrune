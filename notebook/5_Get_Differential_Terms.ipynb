{
 "cells": [
  {
   "cell_type": "markdown",
   "metadata": {},
   "source": [
    "# Load DE genes\n",
    "Use publication's cell type specific genes"
   ]
  },
  {
   "cell_type": "code",
   "execution_count": 1,
   "metadata": {},
   "outputs": [
    {
     "data": {
      "text/html": [
       "<div>\n",
       "<style scoped>\n",
       "    .dataframe tbody tr th:only-of-type {\n",
       "        vertical-align: middle;\n",
       "    }\n",
       "\n",
       "    .dataframe tbody tr th {\n",
       "        vertical-align: top;\n",
       "    }\n",
       "\n",
       "    .dataframe thead th {\n",
       "        text-align: right;\n",
       "    }\n",
       "</style>\n",
       "<table border=\"1\" class=\"dataframe\">\n",
       "  <thead>\n",
       "    <tr style=\"text-align: right;\">\n",
       "      <th></th>\n",
       "      <th>Zhang2016_logFC</th>\n",
       "      <th>Darmanis2015_logFC</th>\n",
       "      <th>Zhang2014_logFC</th>\n",
       "      <th>Zeisel2014_logFC</th>\n",
       "      <th>Tasic2016_logFC</th>\n",
       "      <th>grand_mean</th>\n",
       "      <th>gene</th>\n",
       "      <th>Celltype</th>\n",
       "    </tr>\n",
       "  </thead>\n",
       "  <tbody>\n",
       "    <tr>\n",
       "      <th>0</th>\n",
       "      <td>5.691528</td>\n",
       "      <td>7.240669</td>\n",
       "      <td>6.433235</td>\n",
       "      <td>6.127016</td>\n",
       "      <td>8.593735</td>\n",
       "      <td>6.817237</td>\n",
       "      <td>AQP4</td>\n",
       "      <td>ast</td>\n",
       "    </tr>\n",
       "    <tr>\n",
       "      <th>1</th>\n",
       "      <td>6.577394</td>\n",
       "      <td>6.326526</td>\n",
       "      <td>4.693049</td>\n",
       "      <td>4.388683</td>\n",
       "      <td>8.720270</td>\n",
       "      <td>6.141184</td>\n",
       "      <td>GJA1</td>\n",
       "      <td>ast</td>\n",
       "    </tr>\n",
       "    <tr>\n",
       "      <th>2</th>\n",
       "      <td>5.695915</td>\n",
       "      <td>5.405528</td>\n",
       "      <td>4.078450</td>\n",
       "      <td>4.306402</td>\n",
       "      <td>8.780514</td>\n",
       "      <td>5.653362</td>\n",
       "      <td>GJB6</td>\n",
       "      <td>ast</td>\n",
       "    </tr>\n",
       "    <tr>\n",
       "      <th>3</th>\n",
       "      <td>5.639545</td>\n",
       "      <td>5.082093</td>\n",
       "      <td>6.146746</td>\n",
       "      <td>4.407424</td>\n",
       "      <td>6.674747</td>\n",
       "      <td>5.590111</td>\n",
       "      <td>SLC4A4</td>\n",
       "      <td>ast</td>\n",
       "    </tr>\n",
       "    <tr>\n",
       "      <th>4</th>\n",
       "      <td>5.733010</td>\n",
       "      <td>6.043242</td>\n",
       "      <td>5.003034</td>\n",
       "      <td>5.005239</td>\n",
       "      <td>5.568579</td>\n",
       "      <td>5.470621</td>\n",
       "      <td>SLC1A2</td>\n",
       "      <td>ast</td>\n",
       "    </tr>\n",
       "  </tbody>\n",
       "</table>\n",
       "</div>"
      ],
      "text/plain": [
       "   Zhang2016_logFC  Darmanis2015_logFC  Zhang2014_logFC  Zeisel2014_logFC  \\\n",
       "0         5.691528            7.240669         6.433235          6.127016   \n",
       "1         6.577394            6.326526         4.693049          4.388683   \n",
       "2         5.695915            5.405528         4.078450          4.306402   \n",
       "3         5.639545            5.082093         6.146746          4.407424   \n",
       "4         5.733010            6.043242         5.003034          5.005239   \n",
       "\n",
       "   Tasic2016_logFC  grand_mean    gene Celltype  \n",
       "0         8.593735    6.817237    AQP4      ast  \n",
       "1         8.720270    6.141184    GJA1      ast  \n",
       "2         8.780514    5.653362    GJB6      ast  \n",
       "3         6.674747    5.590111  SLC4A4      ast  \n",
       "4         5.568579    5.470621  SLC1A2      ast  "
      ]
     },
     "execution_count": 1,
     "metadata": {},
     "output_type": "execute_result"
    }
   ],
   "source": [
    "import pandas as pd\n",
    "import numpy as np\n",
    "specific_gene = pd.read_excel('neuron_specific_gene.xlsx', header = 2)\n",
    "specific_gene.head() # only need Cell Type"
   ]
  },
  {
   "cell_type": "code",
   "execution_count": 2,
   "metadata": {},
   "outputs": [
    {
     "name": "stdout",
     "output_type": "stream",
     "text": [
      "ast 1000\n",
      "end 1000\n",
      "mic 1000\n",
      "neu 1000\n",
      "oli 1000\n",
      "opc 1000\n"
     ]
    }
   ],
   "source": [
    "for name, g in specific_gene.groupby(by = 'Celltype')['gene']: # top 1000 enrichmed genes in each cell type\n",
    "    print(name, len(list(g)))\n",
    "# this publication produces 1000 top differentially expressed gene for each cell type\n",
    "# we sought to find what \"functions\" they are all doing"
   ]
  },
  {
   "cell_type": "code",
   "execution_count": 3,
   "metadata": {},
   "outputs": [],
   "source": [
    "def de_term(ont, specific_gene):\n",
    "    '''\n",
    "    find de term per ontology. De term is defined as 1%\n",
    "    ont: ddot.Ontology\n",
    "    specific gene: dataframe per with column ['gene, 'Celltype']\n",
    "    return de_term_dict for each cell type\n",
    "    '''\n",
    "    \n",
    "    \n",
    "    ont_pro = ont.propagate(direction = 'forward')\n",
    "    ont_tbl = ont.to_table()\n",
    "    \n",
    "    # find background distribution\n",
    "    all_p = ont_tbl.loc[ont_tbl['EdgeType']== 'Gene-Term'].groupby(by = 'Parent').count()\n",
    "    all_genes = ont_tbl.loc[ont_tbl['EdgeType']== 'Gene-Term']['Child'].unique()\n",
    "    \n",
    "    background_gene_count = pd.DataFrame(index = all_p.index)\n",
    "    \n",
    "    # sample 1000 genes for constructing background distribution for each term\n",
    "    n_iter = 0\n",
    "    while n_iter < 100:\n",
    "        # randomly choose 1000 gebe\n",
    "        rand_index = np.random.choice(len(all_genes), 1000, replace=False)\n",
    "        rand_genes = all_genes[rand_index]\n",
    "    \n",
    "        background_gene_count[n_iter] = (ont_tbl.loc[ont_tbl['Child'].isin(rand_genes)].groupby(by = 'Parent').count()['Child'])\n",
    "        n_iter+=1\n",
    "    background_gene_count.fillna(0, inplace = True)\n",
    "    threshold = background_gene_count.quantile(axis = 1, q = 0.99)\n",
    "    \n",
    "    # propagate the cell-type specific genes along ontology, and see what terms are enriched\n",
    "    de_term_dict = {}\n",
    "    for name, g in specific_gene.groupby(by = 'Celltype')['gene']: # top 1000 enrichmed genes in each cell type\n",
    "    \n",
    "        cell_specific_gene_count = ont_tbl.loc[ont_tbl['Child'].isin(g)].groupby(by = 'Parent').count()['Child'] # each term has how many cell type specific genes\n",
    "        # how many of them exceed 99 percentile?\n",
    "        de_term = ont_tbl.loc[ont_tbl['Child'].isin(g)].groupby(by = 'Parent').count()['Child'].ge(threshold)\n",
    "        de_term_dict[name] = list(de_term.loc[de_term].index)\n",
    "    return(de_term_dict)"
   ]
  },
  {
   "cell_type": "code",
   "execution_count": 6,
   "metadata": {},
   "outputs": [],
   "source": [
    "ent_thres = np.arange(start = 0.05, stop = 1, step = 0.05)\n",
    "data_root = '/cellar/users/hsher/ontoPrune/data/'\n",
    "import pickle\n",
    "from ddot import Ontology\n",
    "def wrapper(e_thres):\n",
    "    '''\n",
    "    run DE term for ontology of different threshold\n",
    "    '''\n",
    "    print(\"running \", e_thres)\n",
    "    \n",
    "    # read ontology\n",
    "    go = Ontology.read_pickle(data_root+'prune_go_{:.2f}'.format(e_thres))\n",
    "    no_terms = len(go.terms)\n",
    "    \n",
    "    dterms = de_term(go, specific_gene)\n",
    "    no_de_term = [len(dterms[cell]) for cell in dterms.keys()]\n",
    "    \n",
    "    # save to file\n",
    "    with open(data_root+\"one_percent_term_{:.2f}\".format(e_thres), \"wb\") as fp:   #Pickling\n",
    "        pickle.dump(dterms, fp)\n",
    "    \n",
    "    return(no_terms, no_de_term)"
   ]
  },
  {
   "cell_type": "code",
   "execution_count": 7,
   "metadata": {},
   "outputs": [
    {
     "name": "stdout",
     "output_type": "stream",
     "text": [
      "running  0.05\n",
      "running  0.1\n",
      "running  0.15000000000000002\n",
      "running  0.2\n",
      "running  0.25\n",
      "running  0.3\n",
      "running  0.35000000000000003\n",
      "running  0.4\n",
      "running  0.45\n",
      "running  0.5\n",
      "running  0.55\n",
      "running  0.6000000000000001\n",
      "running  0.6500000000000001\n",
      "running  0.7000000000000001\n",
      "running  0.7500000000000001\n",
      "running  0.8\n",
      "running  0.8500000000000001\n",
      "running  0.9000000000000001\n",
      "running  0.9500000000000001\n"
     ]
    }
   ],
   "source": [
    "de_term_stat = pd.DataFrame(index = ent_thres, columns = ['total_terms','ast', 'end', 'mic', 'neu', 'oli', 'opc'])\n",
    "for e in ent_thres:\n",
    "    no_terms, no_de_terms = wrapper(e)\n",
    "    de_term_stat.loc[e] = [no_terms]+no_de_terms"
   ]
  },
  {
   "cell_type": "code",
   "execution_count": 8,
   "metadata": {},
   "outputs": [
    {
     "data": {
      "text/html": [
       "<div>\n",
       "<style scoped>\n",
       "    .dataframe tbody tr th:only-of-type {\n",
       "        vertical-align: middle;\n",
       "    }\n",
       "\n",
       "    .dataframe tbody tr th {\n",
       "        vertical-align: top;\n",
       "    }\n",
       "\n",
       "    .dataframe thead th {\n",
       "        text-align: right;\n",
       "    }\n",
       "</style>\n",
       "<table border=\"1\" class=\"dataframe\">\n",
       "  <thead>\n",
       "    <tr style=\"text-align: right;\">\n",
       "      <th></th>\n",
       "      <th>total_terms</th>\n",
       "      <th>ast</th>\n",
       "      <th>end</th>\n",
       "      <th>mic</th>\n",
       "      <th>neu</th>\n",
       "      <th>oli</th>\n",
       "      <th>opc</th>\n",
       "    </tr>\n",
       "  </thead>\n",
       "  <tbody>\n",
       "    <tr>\n",
       "      <th>0.05</th>\n",
       "      <td>17158</td>\n",
       "      <td>1989</td>\n",
       "      <td>1969</td>\n",
       "      <td>2295</td>\n",
       "      <td>1471</td>\n",
       "      <td>1336</td>\n",
       "      <td>1362</td>\n",
       "    </tr>\n",
       "    <tr>\n",
       "      <th>0.10</th>\n",
       "      <td>17038</td>\n",
       "      <td>1929</td>\n",
       "      <td>1956</td>\n",
       "      <td>2310</td>\n",
       "      <td>1453</td>\n",
       "      <td>1341</td>\n",
       "      <td>1359</td>\n",
       "    </tr>\n",
       "    <tr>\n",
       "      <th>0.15</th>\n",
       "      <td>16911</td>\n",
       "      <td>1970</td>\n",
       "      <td>2012</td>\n",
       "      <td>2285</td>\n",
       "      <td>1485</td>\n",
       "      <td>1345</td>\n",
       "      <td>1401</td>\n",
       "    </tr>\n",
       "    <tr>\n",
       "      <th>0.20</th>\n",
       "      <td>16760</td>\n",
       "      <td>1956</td>\n",
       "      <td>1916</td>\n",
       "      <td>2269</td>\n",
       "      <td>1436</td>\n",
       "      <td>1289</td>\n",
       "      <td>1349</td>\n",
       "    </tr>\n",
       "    <tr>\n",
       "      <th>0.25</th>\n",
       "      <td>16444</td>\n",
       "      <td>1915</td>\n",
       "      <td>1966</td>\n",
       "      <td>2324</td>\n",
       "      <td>1439</td>\n",
       "      <td>1273</td>\n",
       "      <td>1388</td>\n",
       "    </tr>\n",
       "    <tr>\n",
       "      <th>0.30</th>\n",
       "      <td>16086</td>\n",
       "      <td>1891</td>\n",
       "      <td>1943</td>\n",
       "      <td>2237</td>\n",
       "      <td>1420</td>\n",
       "      <td>1257</td>\n",
       "      <td>1346</td>\n",
       "    </tr>\n",
       "    <tr>\n",
       "      <th>0.35</th>\n",
       "      <td>15538</td>\n",
       "      <td>1916</td>\n",
       "      <td>1914</td>\n",
       "      <td>2238</td>\n",
       "      <td>1384</td>\n",
       "      <td>1274</td>\n",
       "      <td>1354</td>\n",
       "    </tr>\n",
       "    <tr>\n",
       "      <th>0.40</th>\n",
       "      <td>14864</td>\n",
       "      <td>1938</td>\n",
       "      <td>1923</td>\n",
       "      <td>2246</td>\n",
       "      <td>1389</td>\n",
       "      <td>1224</td>\n",
       "      <td>1329</td>\n",
       "    </tr>\n",
       "    <tr>\n",
       "      <th>0.45</th>\n",
       "      <td>13742</td>\n",
       "      <td>1768</td>\n",
       "      <td>1789</td>\n",
       "      <td>2122</td>\n",
       "      <td>1288</td>\n",
       "      <td>1118</td>\n",
       "      <td>1251</td>\n",
       "    </tr>\n",
       "    <tr>\n",
       "      <th>0.50</th>\n",
       "      <td>12305</td>\n",
       "      <td>1582</td>\n",
       "      <td>1554</td>\n",
       "      <td>1867</td>\n",
       "      <td>1155</td>\n",
       "      <td>979</td>\n",
       "      <td>1087</td>\n",
       "    </tr>\n",
       "    <tr>\n",
       "      <th>0.55</th>\n",
       "      <td>10671</td>\n",
       "      <td>1460</td>\n",
       "      <td>1361</td>\n",
       "      <td>1669</td>\n",
       "      <td>1039</td>\n",
       "      <td>895</td>\n",
       "      <td>1023</td>\n",
       "    </tr>\n",
       "    <tr>\n",
       "      <th>0.60</th>\n",
       "      <td>8648</td>\n",
       "      <td>1136</td>\n",
       "      <td>1040</td>\n",
       "      <td>1337</td>\n",
       "      <td>839</td>\n",
       "      <td>717</td>\n",
       "      <td>797</td>\n",
       "    </tr>\n",
       "    <tr>\n",
       "      <th>0.65</th>\n",
       "      <td>6721</td>\n",
       "      <td>891</td>\n",
       "      <td>792</td>\n",
       "      <td>1006</td>\n",
       "      <td>585</td>\n",
       "      <td>525</td>\n",
       "      <td>557</td>\n",
       "    </tr>\n",
       "    <tr>\n",
       "      <th>0.70</th>\n",
       "      <td>5142</td>\n",
       "      <td>632</td>\n",
       "      <td>629</td>\n",
       "      <td>775</td>\n",
       "      <td>433</td>\n",
       "      <td>365</td>\n",
       "      <td>413</td>\n",
       "    </tr>\n",
       "    <tr>\n",
       "      <th>0.75</th>\n",
       "      <td>3805</td>\n",
       "      <td>462</td>\n",
       "      <td>424</td>\n",
       "      <td>512</td>\n",
       "      <td>323</td>\n",
       "      <td>266</td>\n",
       "      <td>269</td>\n",
       "    </tr>\n",
       "    <tr>\n",
       "      <th>0.80</th>\n",
       "      <td>2754</td>\n",
       "      <td>318</td>\n",
       "      <td>289</td>\n",
       "      <td>351</td>\n",
       "      <td>244</td>\n",
       "      <td>179</td>\n",
       "      <td>195</td>\n",
       "    </tr>\n",
       "    <tr>\n",
       "      <th>0.85</th>\n",
       "      <td>1885</td>\n",
       "      <td>216</td>\n",
       "      <td>201</td>\n",
       "      <td>203</td>\n",
       "      <td>184</td>\n",
       "      <td>139</td>\n",
       "      <td>154</td>\n",
       "    </tr>\n",
       "    <tr>\n",
       "      <th>0.90</th>\n",
       "      <td>1106</td>\n",
       "      <td>140</td>\n",
       "      <td>115</td>\n",
       "      <td>117</td>\n",
       "      <td>115</td>\n",
       "      <td>76</td>\n",
       "      <td>90</td>\n",
       "    </tr>\n",
       "    <tr>\n",
       "      <th>0.95</th>\n",
       "      <td>477</td>\n",
       "      <td>63</td>\n",
       "      <td>54</td>\n",
       "      <td>50</td>\n",
       "      <td>48</td>\n",
       "      <td>39</td>\n",
       "      <td>39</td>\n",
       "    </tr>\n",
       "  </tbody>\n",
       "</table>\n",
       "</div>"
      ],
      "text/plain": [
       "      total_terms   ast   end   mic   neu   oli   opc\n",
       "0.05        17158  1989  1969  2295  1471  1336  1362\n",
       "0.10        17038  1929  1956  2310  1453  1341  1359\n",
       "0.15        16911  1970  2012  2285  1485  1345  1401\n",
       "0.20        16760  1956  1916  2269  1436  1289  1349\n",
       "0.25        16444  1915  1966  2324  1439  1273  1388\n",
       "0.30        16086  1891  1943  2237  1420  1257  1346\n",
       "0.35        15538  1916  1914  2238  1384  1274  1354\n",
       "0.40        14864  1938  1923  2246  1389  1224  1329\n",
       "0.45        13742  1768  1789  2122  1288  1118  1251\n",
       "0.50        12305  1582  1554  1867  1155   979  1087\n",
       "0.55        10671  1460  1361  1669  1039   895  1023\n",
       "0.60         8648  1136  1040  1337   839   717   797\n",
       "0.65         6721   891   792  1006   585   525   557\n",
       "0.70         5142   632   629   775   433   365   413\n",
       "0.75         3805   462   424   512   323   266   269\n",
       "0.80         2754   318   289   351   244   179   195\n",
       "0.85         1885   216   201   203   184   139   154\n",
       "0.90         1106   140   115   117   115    76    90\n",
       "0.95          477    63    54    50    48    39    39"
      ]
     },
     "execution_count": 8,
     "metadata": {},
     "output_type": "execute_result"
    }
   ],
   "source": [
    "de_term_stat"
   ]
  },
  {
   "cell_type": "code",
   "execution_count": 11,
   "metadata": {},
   "outputs": [
    {
     "data": {
      "text/plain": [
       "Index(['total_terms', 'ast', 'end', 'mic', 'neu', 'oli', 'opc'], dtype='object')"
      ]
     },
     "execution_count": 11,
     "metadata": {},
     "output_type": "execute_result"
    }
   ],
   "source": [
    "de_term_stat.columns"
   ]
  },
  {
   "cell_type": "code",
   "execution_count": 21,
   "metadata": {},
   "outputs": [
    {
     "data": {
      "image/png": "[encoded data removed]",
      "text/plain": [
       "<Figure size 432x288 with 2 Axes>"
      ]
     },
     "metadata": {
      "needs_background": "light"
     },
     "output_type": "display_data"
    }
   ],
   "source": [
    "%matplotlib inline\n",
    "import matplotlib.pyplot as plt\n",
    "\n",
    "f, ax = plt.subplots(2,1)\n",
    "\n",
    "de_term_stat.plot(ax = ax[0], legend = False)\n",
    "ax[0].set_xlabel('entropy threshold')\n",
    "ax[0].set_ylabel('No. terms')\n",
    "ax[0].set_title('Number of specific term using trimmed ontology')\n",
    "\n",
    "percentage_term = de_term_stat[['ast', 'end', 'mic', 'neu', 'oli', 'opc']].div(de_term_stat['total_terms'], axis = 0)\n",
    "percentage_term.plot(ax = ax[1], legend = False)\n",
    "ax[1].set_xlabel('entropy threshold')\n",
    "ax[1].set_ylabel('% as differential terms')\n",
    "ax[1].set_title('Percentage of specific term using trimmed ontology')\n",
    "ax[1].legend(bbox_to_anchor=(1.25, 1))\n",
    "\n",
    "plt.tight_layout()"
   ]
  },
  {
   "cell_type": "markdown",
   "metadata": {},
   "source": [
    "# Why sometimes root gets enriched\n",
    "\n",
    "Because the number of annotation for each 1000 de-genes are not equal."
   ]
  },
  {
   "cell_type": "code",
   "execution_count": 22,
   "metadata": {},
   "outputs": [],
   "source": [
    "neu_gene = specific_gene.loc[specific_gene['Celltype'] == 'neu', 'gene'].tolist()\n",
    "mic_gene = specific_gene.loc[specific_gene['Celltype'] == 'mic', 'gene'].tolist()"
   ]
  },
  {
   "cell_type": "code",
   "execution_count": 23,
   "metadata": {},
   "outputs": [],
   "source": [
    "from ddot import Ontology\n",
    "data_root = '~/ontoPrune/data/'\n",
    "go = Ontology.read_pickle(data_root+'prune_go_{:.2f}'.format(0.95))"
   ]
  },
  {
   "cell_type": "code",
   "execution_count": 24,
   "metadata": {},
   "outputs": [
    {
     "data": {
      "text/plain": [
       "19626 genes, 477 terms, 64852 gene-term relations, 478 term-term relations\n",
       "node_attributes: []\n",
       "edge_attributes: ['Annotation Extension', 'Aspect', 'Assigned By', 'DB', 'DB Object ID', 'DB Object Name', 'DB Object Synonym', 'DB Object Type', 'DB:Reference', 'Date', 'Evidence Code', 'Gene Product Form ID', 'Qualifier', 'Taxon', 'With (or) From', 'biological_process', 'is_a']"
      ]
     },
     "execution_count": 24,
     "metadata": {},
     "output_type": "execute_result"
    }
   ],
   "source": [
    "go"
   ]
  },
  {
   "cell_type": "code",
   "execution_count": 25,
   "metadata": {},
   "outputs": [
    {
     "data": {
      "text/plain": [
       "['GO:0003674', 'GO:0005575', 'GO:0008150']"
      ]
     },
     "execution_count": 25,
     "metadata": {},
     "output_type": "execute_result"
    }
   ],
   "source": [
    "go.get_roots()"
   ]
  },
  {
   "cell_type": "code",
   "execution_count": 26,
   "metadata": {},
   "outputs": [
    {
     "data": {
      "text/plain": [
       "array([863, 933, 891])"
      ]
     },
     "execution_count": 26,
     "metadata": {},
     "output_type": "execute_result"
    }
   ],
   "source": [
    "go.connected(ancestors = go.get_roots(), descendants = list(set(neu_gene).intersection(set(go.genes)))).sum(axis = 0)"
   ]
  },
  {
   "cell_type": "code",
   "execution_count": 27,
   "metadata": {},
   "outputs": [
    {
     "data": {
      "text/plain": [
       "array([930, 950, 931])"
      ]
     },
     "execution_count": 27,
     "metadata": {},
     "output_type": "execute_result"
    }
   ],
   "source": [
    "go.connected(ancestors = go.get_roots(), descendants = list(set(mic_gene).intersection(set(go.genes)))).sum(axis = 0)"
   ]
  },
  {
   "cell_type": "code",
   "execution_count": 28,
   "metadata": {},
   "outputs": [
    {
     "data": {
      "text/plain": [
       "952"
      ]
     },
     "execution_count": 28,
     "metadata": {},
     "output_type": "execute_result"
    }
   ],
   "source": [
    "len(set(neu_gene).intersection(set(go.genes)))"
   ]
  },
  {
   "cell_type": "code",
   "execution_count": 29,
   "metadata": {},
   "outputs": [
    {
     "data": {
      "text/plain": [
       "969"
      ]
     },
     "execution_count": 29,
     "metadata": {},
     "output_type": "execute_result"
    }
   ],
   "source": [
    "len(set(mic_gene).intersection(set(go.genes)))"
   ]
  }
 ],
 "metadata": {
  "kernelspec": {
   "display_name": "ddot",
   "language": "python",
   "name": "ddot"
  },
  "language_info": {
   "codemirror_mode": {
    "name": "ipython",
    "version": 3
   },
   "file_extension": ".py",
   "mimetype": "text/x-python",
   "name": "python",
   "nbconvert_exporter": "python",
   "pygments_lexer": "ipython3",
   "version": "3.7.6"
  }
 },
 "nbformat": 4,
 "nbformat_minor": 2
}
