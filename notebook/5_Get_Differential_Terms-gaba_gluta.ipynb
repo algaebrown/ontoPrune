{
 "cells": [
  {
   "cell_type": "markdown",
   "metadata": {},
   "source": [
    "# Load DE genes\n",
    "Use publication's cell type specific genes"
   ]
  },
  {
   "cell_type": "code",
   "execution_count": 1,
   "metadata": {},
   "outputs": [],
   "source": [
    "import pandas as pd\n",
    "import numpy as np\n",
    "specific_gene = pd.read_excel('GABA_gluta.xlsx', header = 0)\n",
    "specific_gene.head() # only need Cell Type\n",
    "\n",
    "# it is a very rough way of doing it\n",
    "specific_gene['gene'] = specific_gene['gene'].str.upper()"
   ]
  },
  {
   "cell_type": "code",
   "execution_count": 2,
   "metadata": {},
   "outputs": [
    {
     "name": "stdout",
     "output_type": "stream",
     "text": [
      "GABA 1000\n",
      "gluta 1000\n"
     ]
    }
   ],
   "source": [
    "for name, g in specific_gene.groupby(by = 'Celltype')['gene']: # top 1000 enrichmed genes in each cell type\n",
    "    print(name, len(list(g)))\n",
    "# this publication produces 1000 top differentially expressed gene for each cell type\n",
    "# we sought to find what \"functions\" they are all doing"
   ]
  },
  {
   "cell_type": "code",
   "execution_count": 3,
   "metadata": {},
   "outputs": [],
   "source": [
    "def de_term(ont, specific_gene):\n",
    "    '''\n",
    "    find de term per ontology. De term is defined as 1%\n",
    "    ont: ddot.Ontology\n",
    "    specific gene: dataframe per with column ['gene, 'Celltype']\n",
    "    return de_term_dict for each cell type\n",
    "    '''\n",
    "    \n",
    "    \n",
    "    ont_pro = ont.propagate(direction = 'forward')\n",
    "    ont_tbl = ont.to_table()\n",
    "    \n",
    "    # find background distribution\n",
    "    all_p = ont_tbl.loc[ont_tbl['EdgeType']== 'Gene-Term'].groupby(by = 'Parent').count()\n",
    "    all_genes = ont_tbl.loc[ont_tbl['EdgeType']== 'Gene-Term']['Child'].unique()\n",
    "    \n",
    "    background_gene_count = pd.DataFrame(index = all_p.index)\n",
    "    \n",
    "    # sample 1000 genes for constructing background distribution for each term\n",
    "    n_iter = 0\n",
    "    while n_iter < 100:\n",
    "        # randomly choose 1000 gebe\n",
    "        rand_index = np.random.choice(len(all_genes), 1000, replace=False)\n",
    "        rand_genes = all_genes[rand_index]\n",
    "    \n",
    "        background_gene_count[n_iter] = (ont_tbl.loc[ont_tbl['Child'].isin(rand_genes)].groupby(by = 'Parent').count()['Child'])\n",
    "        n_iter+=1\n",
    "    background_gene_count.fillna(0, inplace = True)\n",
    "    threshold = background_gene_count.quantile(axis = 1, q = 0.99)\n",
    "    \n",
    "    # propagate the cell-type specific genes along ontology, and see what terms are enriched\n",
    "    de_term_dict = {}\n",
    "    for name, g in specific_gene.groupby(by = 'Celltype')['gene']: # top 1000 enrichmed genes in each cell type\n",
    "    \n",
    "        cell_specific_gene_count = ont_tbl.loc[ont_tbl['Child'].isin(g)].groupby(by = 'Parent').count()['Child'] # each term has how many cell type specific genes\n",
    "        # how many of them exceed 99 percentile?\n",
    "        de_term = ont_tbl.loc[ont_tbl['Child'].isin(g)].groupby(by = 'Parent').count()['Child'].ge(threshold)\n",
    "        de_term_dict[name] = list(de_term.loc[de_term].index)\n",
    "    return(de_term_dict)"
   ]
  },
  {
   "cell_type": "code",
   "execution_count": 4,
   "metadata": {},
   "outputs": [],
   "source": [
    "ent_thres = np.arange(start = 0.05, stop = 1, step = 0.05)\n",
    "data_root = '/cellar/users/hsher/ontoPrune/data/'\n",
    "import pickle\n",
    "from ddot import Ontology\n",
    "def wrapper(e_thres, filename = 'one_percent_term'):\n",
    "    '''\n",
    "    run DE term for ontology of different threshold\n",
    "    '''\n",
    "    print(\"running \", e_thres)\n",
    "    \n",
    "    # read ontology\n",
    "    go = Ontology.read_pickle(data_root+'prune_go_{:.2f}'.format(e_thres))\n",
    "    no_terms = len(go.terms)\n",
    "    \n",
    "    dterms = de_term(go, specific_gene)\n",
    "    no_de_term = [len(dterms[cell]) for cell in dterms.keys()]\n",
    "    \n",
    "    # save to file\n",
    "    with open(data_root+\"{}_{:.2f}\".format(filename, e_thres), \"wb\") as fp:   #Pickling\n",
    "        pickle.dump(dterms, fp)\n",
    "    \n",
    "    return(no_terms, no_de_term)"
   ]
  },
  {
   "cell_type": "code",
   "execution_count": 5,
   "metadata": {},
   "outputs": [
    {
     "name": "stdout",
     "output_type": "stream",
     "text": [
      "running  0.05\n",
      "running  0.1\n",
      "running  0.15000000000000002\n",
      "running  0.2\n",
      "running  0.25\n",
      "running  0.3\n",
      "running  0.35000000000000003\n",
      "running  0.4\n",
      "running  0.45\n",
      "running  0.5\n",
      "running  0.55\n",
      "running  0.6000000000000001\n",
      "running  0.6500000000000001\n",
      "running  0.7000000000000001\n",
      "running  0.7500000000000001\n",
      "running  0.8\n",
      "running  0.8500000000000001\n",
      "running  0.9000000000000001\n",
      "running  0.9500000000000001\n"
     ]
    }
   ],
   "source": [
    "de_term_stat = pd.DataFrame(index = ent_thres, columns = ['total_terms','GABA', 'gluta'])\n",
    "for e in ent_thres:\n",
    "    no_terms, no_de_terms = wrapper(e, filename = 'neuron_subtype_term')\n",
    "    de_term_stat.loc[e] = [no_terms]+no_de_terms"
   ]
  },
  {
   "cell_type": "code",
   "execution_count": 6,
   "metadata": {},
   "outputs": [
    {
     "data": {
      "text/html": [
       "<div>\n",
       "<style scoped>\n",
       "    .dataframe tbody tr th:only-of-type {\n",
       "        vertical-align: middle;\n",
       "    }\n",
       "\n",
       "    .dataframe tbody tr th {\n",
       "        vertical-align: top;\n",
       "    }\n",
       "\n",
       "    .dataframe thead th {\n",
       "        text-align: right;\n",
       "    }\n",
       "</style>\n",
       "<table border=\"1\" class=\"dataframe\">\n",
       "  <thead>\n",
       "    <tr style=\"text-align: right;\">\n",
       "      <th></th>\n",
       "      <th>total_terms</th>\n",
       "      <th>GABA</th>\n",
       "      <th>gluta</th>\n",
       "    </tr>\n",
       "  </thead>\n",
       "  <tbody>\n",
       "    <tr>\n",
       "      <th>0.05</th>\n",
       "      <td>17158</td>\n",
       "      <td>1170</td>\n",
       "      <td>1498</td>\n",
       "    </tr>\n",
       "    <tr>\n",
       "      <th>0.10</th>\n",
       "      <td>17038</td>\n",
       "      <td>1147</td>\n",
       "      <td>1483</td>\n",
       "    </tr>\n",
       "    <tr>\n",
       "      <th>0.15</th>\n",
       "      <td>16911</td>\n",
       "      <td>1167</td>\n",
       "      <td>1453</td>\n",
       "    </tr>\n",
       "    <tr>\n",
       "      <th>0.20</th>\n",
       "      <td>16760</td>\n",
       "      <td>1145</td>\n",
       "      <td>1502</td>\n",
       "    </tr>\n",
       "    <tr>\n",
       "      <th>0.25</th>\n",
       "      <td>16444</td>\n",
       "      <td>1127</td>\n",
       "      <td>1462</td>\n",
       "    </tr>\n",
       "    <tr>\n",
       "      <th>0.30</th>\n",
       "      <td>16086</td>\n",
       "      <td>1100</td>\n",
       "      <td>1397</td>\n",
       "    </tr>\n",
       "    <tr>\n",
       "      <th>0.35</th>\n",
       "      <td>15538</td>\n",
       "      <td>1083</td>\n",
       "      <td>1427</td>\n",
       "    </tr>\n",
       "    <tr>\n",
       "      <th>0.40</th>\n",
       "      <td>14864</td>\n",
       "      <td>1072</td>\n",
       "      <td>1356</td>\n",
       "    </tr>\n",
       "    <tr>\n",
       "      <th>0.45</th>\n",
       "      <td>13742</td>\n",
       "      <td>995</td>\n",
       "      <td>1320</td>\n",
       "    </tr>\n",
       "    <tr>\n",
       "      <th>0.50</th>\n",
       "      <td>12305</td>\n",
       "      <td>866</td>\n",
       "      <td>1206</td>\n",
       "    </tr>\n",
       "    <tr>\n",
       "      <th>0.55</th>\n",
       "      <td>10671</td>\n",
       "      <td>781</td>\n",
       "      <td>1016</td>\n",
       "    </tr>\n",
       "    <tr>\n",
       "      <th>0.60</th>\n",
       "      <td>8648</td>\n",
       "      <td>649</td>\n",
       "      <td>835</td>\n",
       "    </tr>\n",
       "    <tr>\n",
       "      <th>0.65</th>\n",
       "      <td>6721</td>\n",
       "      <td>469</td>\n",
       "      <td>623</td>\n",
       "    </tr>\n",
       "    <tr>\n",
       "      <th>0.70</th>\n",
       "      <td>5142</td>\n",
       "      <td>361</td>\n",
       "      <td>440</td>\n",
       "    </tr>\n",
       "    <tr>\n",
       "      <th>0.75</th>\n",
       "      <td>3805</td>\n",
       "      <td>274</td>\n",
       "      <td>302</td>\n",
       "    </tr>\n",
       "    <tr>\n",
       "      <th>0.80</th>\n",
       "      <td>2754</td>\n",
       "      <td>218</td>\n",
       "      <td>233</td>\n",
       "    </tr>\n",
       "    <tr>\n",
       "      <th>0.85</th>\n",
       "      <td>1885</td>\n",
       "      <td>147</td>\n",
       "      <td>178</td>\n",
       "    </tr>\n",
       "    <tr>\n",
       "      <th>0.90</th>\n",
       "      <td>1106</td>\n",
       "      <td>100</td>\n",
       "      <td>96</td>\n",
       "    </tr>\n",
       "    <tr>\n",
       "      <th>0.95</th>\n",
       "      <td>477</td>\n",
       "      <td>42</td>\n",
       "      <td>46</td>\n",
       "    </tr>\n",
       "  </tbody>\n",
       "</table>\n",
       "</div>"
      ],
      "text/plain": [
       "      total_terms  GABA  gluta\n",
       "0.05        17158  1170   1498\n",
       "0.10        17038  1147   1483\n",
       "0.15        16911  1167   1453\n",
       "0.20        16760  1145   1502\n",
       "0.25        16444  1127   1462\n",
       "0.30        16086  1100   1397\n",
       "0.35        15538  1083   1427\n",
       "0.40        14864  1072   1356\n",
       "0.45        13742   995   1320\n",
       "0.50        12305   866   1206\n",
       "0.55        10671   781   1016\n",
       "0.60         8648   649    835\n",
       "0.65         6721   469    623\n",
       "0.70         5142   361    440\n",
       "0.75         3805   274    302\n",
       "0.80         2754   218    233\n",
       "0.85         1885   147    178\n",
       "0.90         1106   100     96\n",
       "0.95          477    42     46"
      ]
     },
     "execution_count": 6,
     "metadata": {},
     "output_type": "execute_result"
    }
   ],
   "source": [
    "de_term_stat"
   ]
  },
  {
   "cell_type": "code",
   "execution_count": 7,
   "metadata": {},
   "outputs": [
    {
     "data": {
      "text/plain": [
       "Index(['total_terms', 'GABA', 'gluta'], dtype='object')"
      ]
     },
     "execution_count": 7,
     "metadata": {},
     "output_type": "execute_result"
    }
   ],
   "source": [
    "de_term_stat.columns"
   ]
  },
  {
   "cell_type": "code",
   "execution_count": 9,
   "metadata": {},
   "outputs": [
    {
     "data": {
      "image/png": "[encoded data removed]",
      "text/plain": [
       "<Figure size 432x288 with 2 Axes>"
      ]
     },
     "metadata": {
      "needs_background": "light"
     },
     "output_type": "display_data"
    }
   ],
   "source": [
    "%matplotlib inline\n",
    "import matplotlib.pyplot as plt\n",
    "\n",
    "f, ax = plt.subplots(2,1)\n",
    "\n",
    "de_term_stat.plot(ax = ax[0], legend = False)\n",
    "ax[0].set_xlabel('entropy threshold')\n",
    "ax[0].set_ylabel('No. terms')\n",
    "ax[0].set_title('Number of specific term using trimmed ontology')\n",
    "\n",
    "percentage_term = de_term_stat[['GABA', 'gluta']].div(de_term_stat['total_terms'], axis = 0)\n",
    "percentage_term.plot(ax = ax[1], legend = False)\n",
    "ax[1].set_xlabel('entropy threshold')\n",
    "ax[1].set_ylabel('% as differential terms')\n",
    "ax[1].set_title('Percentage of specific term using trimmed ontology')\n",
    "ax[1].legend(bbox_to_anchor=(1.25, 1))\n",
    "\n",
    "plt.tight_layout()"
   ]
  },
  {
   "cell_type": "code",
   "execution_count": null,
   "metadata": {},
   "outputs": [],
   "source": []
  }
 ],
 "metadata": {
  "kernelspec": {
   "display_name": "ddot",
   "language": "python",
   "name": "ddot"
  },
  "language_info": {
   "codemirror_mode": {
    "name": "ipython",
    "version": 3
   },
   "file_extension": ".py",
   "mimetype": "text/x-python",
   "name": "python",
   "nbconvert_exporter": "python",
   "pygments_lexer": "ipython3",
   "version": "3.7.6"
  }
 },
 "nbformat": 4,
 "nbformat_minor": 2
}
